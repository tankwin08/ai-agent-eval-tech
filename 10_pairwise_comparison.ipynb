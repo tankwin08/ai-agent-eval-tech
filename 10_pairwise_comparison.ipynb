{
 "cells": [
  {
   "cell_type": "markdown",
   "id": "f1a33c67",
   "metadata": {},
   "source": [
    "# Comparing Q&A System Outputs\n",
    "\n",
    "====================================\n",
    "\n",
    "### 1. Theory: Absolute Grading vs. Pairwise Comparison\n",
    "\n",
    "When comparing two versions of an LLM system (e.g., trying a new prompt, model, or RAG strategy), the standard approach is to benchmark both on a dataset and compare their aggregate metrics (like correctness or faithfulness). This **absolute grading** is a great starting point for understanding overall performance.\n",
    "\n",
    "However, what happens when the aggregate scores are nearly identical? Does this mean the two systems are of equal quality? Not necessarily. One system might produce slightly more concise answers, while the other might be better at handling nuance. These subtle differences are often lost in aggregate scores.\n",
    "\n",
    "This is where **pairwise comparison** becomes a powerful tool. Instead of asking an LLM judge, \"Is this answer correct?\" (a 1-0 score), we ask, \"Given these two answers, which one is better?\" This forces a preference and can reveal qualitative differences that absolute metrics miss. It is often an easier and more reliable task for an LLM judge.\n",
    "\n",
    "In this tutorial, we will:\n",
    "1.  Create a dataset and two versions of a RAG Q&A system (by varying the document chunk size).\n",
    "2.  Benchmark both systems using a standard correctness evaluator.\n",
    "3.  Run a **pairwise evaluator** to directly compare the outputs of the two systems for each question.\n",
    "4.  Log the resulting preference scores back to LangSmith for analysis.\n",
    "\n",
    "This will give us a much richer understanding of the impact of our changes."
   ]
  },
  {
   "cell_type": "markdown",
   "id": "a1b2c3d4-e5f6-4a7b-8c9d-1e2f3a4b5c6d",
   "metadata": {},
   "source": [
    "### 2. Prerequisites and Setup\n",
    "\n",
    "This tutorial uses OpenAI, ChromaDB, and LangChain. First, we will configure our environment variables to connect to the necessary services.\n",
    "\n",
    "**Action Required**: You must replace `\"YOUR API KEY\"` with your actual key."
   ]
  },
  {
   "cell_type": "code",
   "execution_count": null,
   "id": "4c788783",
   "metadata": {
    "ExecuteTime": {
     "end_time": "2023-09-20T04:50:21.905597Z",
     "start_time": "2023-09-20T04:50:21.886104Z"
    }
   },
   "outputs": [],
   "source": [
    "# import os # Import the 'os' module to interact with the operating system.\n",
    "\n",
    "# # Update with your API URL if using a hosted instance of Langsmith.\n",
    "# os.environ[\"LANGCHAIN_ENDPOINT\"] = \"https://api.smith.langchain.com\" # Set the LangSmith API endpoint.\n",
    "# os.environ[\"LANGCHAIN_API_KEY\"] = \"YOUR API KEY\"  # Update with your API key."
   ]
  },
  {
   "cell_type": "code",
   "execution_count": 1,
   "id": "fd887401",
   "metadata": {},
   "outputs": [],
   "source": [
    "from dotenv import load_dotenv # Import function to load environment variables\n",
    "import os # Import the 'os' module to interact with the operating system.\n",
    "\n",
    "# Load environment variables from the .env file. The `override=True` argument\n",
    "# ensures that variables from the .env file will overwrite existing environment variables.\n",
    "load_dotenv(dotenv_path=\".env\", override=True)\n",
    "\n",
    "\n",
    "\n",
    "# Update with your API URL if using a hosted instance of Langsmith.\n",
    "os.environ[\"LANGCHAIN_ENDPOINT\"] = \"https://api.smith.langchain.com\" # Set the LangSmith API endpoint as an environment variable.\n",
    "# Update with your API key\n",
    "os.environ[\"LANGCHAIN_API_KEY\"] = os.getenv('LANGSMITH_API_KEY')# Set your LangSmith API key as an environment variable.\n",
    "os.environ[\"OPENAI_API_KEY\"] = os.getenv('OPENAI_API_KEY') # Set your OpenAI API key as an environment variable."
   ]
  },
  {
   "cell_type": "markdown",
   "id": "fe780fbd",
   "metadata": {},
   "source": [
    "Next, we install the required Python packages and set the OpenAI API key.\n",
    "\n",
    "**Action Required**: Replace `<YOUR-API-KEY>` with your actual OpenAI key."
   ]
  },
  {
   "cell_type": "code",
   "execution_count": null,
   "id": "4f9e7425",
   "metadata": {
    "ExecuteTime": {
     "end_time": "2023-09-20T04:50:23.269252Z",
     "start_time": "2023-09-20T04:50:23.265495Z"
    }
   },
   "outputs": [],
   "source": [
    "# The '%pip install' command installs python packages from the notebook. '--quiet' suppresses the output.\n",
    "# %pip install -U \"langchain[openai]\" --quiet\n",
    "# %pip install chromadb --quiet\n",
    "# %pip install lxml --quiet\n",
    "# %pip install html2text --quiet\n",
    "# %pip install pandas --quiet"
   ]
  },
  {
   "cell_type": "code",
   "execution_count": null,
   "id": "afac8079",
   "metadata": {
    "ExecuteTime": {
     "end_time": "2023-09-20T04:50:25.057984Z",
     "start_time": "2023-09-20T04:50:25.050240Z"
    }
   },
   "outputs": [],
   "source": [
    "# The '%env' magic command sets an environment variable for the notebook session.\n",
    "# %env OPENAI_API_KEY=<YOUR-API-KEY>"
   ]
  },
  {
   "cell_type": "markdown",
   "id": "ff80ab6e",
   "metadata": {},
   "source": [
    "## Step 1: Setup\n",
    "\n",
    "#### a. Create a Dataset\n",
    "\n",
    "First, we'll create our evaluation dataset. A good dataset is the cornerstone of any reliable testing process. We've provided a small, hard-coded set of question-answer pairs about LangSmith for this example. In a real-world scenario, you would want a much larger and more diverse set of examples."
   ]
  },
  {
   "cell_type": "code",
   "execution_count": 2,
   "id": "55e98a80-bf37-457e-b31d-952292e76c51",
   "metadata": {
    "ExecuteTime": {
     "end_time": "2023-09-20T04:50:27.908227Z",
     "start_time": "2023-09-20T04:50:27.903470Z"
    }
   },
   "outputs": [],
   "source": [
    "# Define a list of tuples, where each tuple contains a (question, answer) pair.\n",
    "examples = [\n",
    "    (\n",
    "        \"What is LangChain?\",\n",
    "        \"LangChain is an open-source framework for building applications using large language models. It is also the name of the company building LangSmith.\",\n",
    "    ),\n",
    "    (\n",
    "        \"How might I query for all runs in a project?\",\n",
    "        \"client.list_runs(project_name='my-project-name'), or in TypeScript, client.ListRuns({projectName: 'my-project-anme'})\",\n",
    "    ),\n",
    "    (\n",
    "        \"What's a langsmith dataset?\",\n",
    "        \"A LangSmith dataset is a collection of examples. Each example contains inputs and optional expected outputs or references for that data point.\",\n",
    "    ),\n",
    "    (\n",
    "        \"How do I use a traceable decorator?\",\n",
    "        \"\"\"The traceable decorator is available in the langsmith python SDK. To use, configure your environment with your API key,\\\n",
    "import the required function, decorate your function, and then call the function. Below is an example:\n",
    "```python\n",
    "from langsmith.run_helpers import traceable\n",
    "@traceable(run_type=\"chain\") # or \"llm\", etc.\n",
    "def my_function(input_param):\n",
    "    # Function logic goes here\n",
    "    return output\n",
    "result = my_function(input_param)\n",
    "```\"\"\",\n",
    "    ),\n",
    "    (\n",
    "        \"Can I trace my Llama V2 llm?\",\n",
    "        \"So long as you are using one of LangChain's LLM implementations, all your calls can be traced\",\n",
    "    ),\n",
    "    (\n",
    "        \"Why do I have to set environment variables?\",\n",
    "        \"Environment variables can tell your LangChain application to perform tracing and contain the information necessary to authenticate to LangSmith.\"\n",
    "        \" While there are other ways to connect, environment variables tend to be the simplest way to configure your application.\",\n",
    "    ),\n",
    "    (\n",
    "        \"How do I move my project between organizations?\",\n",
    "        \"LangSmith doesn't directly support moving projects between organizations.\",\n",
    "    ),\n",
    "]"
   ]
  },
  {
   "cell_type": "code",
   "execution_count": 3,
   "id": "5edb7824",
   "metadata": {
    "ExecuteTime": {
     "end_time": "2023-09-20T04:50:28.911950Z",
     "start_time": "2023-09-20T04:50:28.903935Z"
    }
   },
   "outputs": [],
   "source": [
    "from langsmith import Client # Import the Client class to interact with LangSmith.\n",
    "\n",
    "client = Client() # Instantiate the LangSmith client."
   ]
  },
  {
   "cell_type": "code",
   "execution_count": 4,
   "id": "cbcd3690",
   "metadata": {
    "ExecuteTime": {
     "end_time": "2023-09-20T04:50:31.532293Z",
     "start_time": "2023-09-20T04:50:29.899253Z"
    }
   },
   "outputs": [],
   "source": [
    "import uuid # Import the uuid library to generate unique identifiers.\n",
    "\n",
    "dataset_name = f\"Retrieval QA Questions {str(uuid.uuid4())}\" # Create a unique name for the dataset.\n",
    "dataset = client.create_dataset(dataset_name=dataset_name) # Create the dataset on the LangSmith platform.\n",
    "# Iterate through our question-answer pairs.\n",
    "for q, a in examples:\n",
    "    # Create an example in our LangSmith dataset for each pair.\n",
    "    client.create_example(\n",
    "        inputs={\"question\": q}, outputs={\"answer\": a}, dataset_id=dataset.id\n",
    "    )"
   ]
  },
  {
   "cell_type": "markdown",
   "id": "2976437f",
   "metadata": {},
   "source": [
    "#### b. Define Two RAG Q&A Systems to Compare\n",
    "\n",
    "Now we'll define our RAG system. The experiment we want to run is to see how the retriever's **chunk size** affects the quality of the final answer. We will create two versions of our RAG chain that are identical in every way except for the `chunk_size` and `chunk_overlap` used when splitting the source documents.\n",
    "\n",
    "First, we load and process the source documents."
   ]
  },
  {
   "cell_type": "code",
   "execution_count": 5,
   "id": "95fab721",
   "metadata": {
    "ExecuteTime": {
     "end_time": "2023-09-20T04:50:47.262606Z",
     "start_time": "2023-09-20T04:50:36.292760Z"
    }
   },
   "outputs": [
    {
     "name": "stderr",
     "output_type": "stream",
     "text": [
      "/Users/tankwin08/Desktop/projects/professional/ai-agents-eval-techniques/.venv/lib/python3.11/site-packages/langchain_community/document_loaders/recursive_url_loader.py:43: XMLParsedAsHTMLWarning: It looks like you're using an HTML parser to parse an XML document.\n",
      "\n",
      "Assuming this really is an XML document, what you're doing might work, but you should know that using an XML parser will be more reliable. To parse this document as XML, make sure you have the Python package 'lxml' installed, and pass the keyword argument `features=\"xml\"` into the BeautifulSoup constructor.\n",
      "\n",
      "If you want or need to use an HTML parser on this document, you can make this warning go away by filtering it. To do that, run this code before calling the BeautifulSoup constructor:\n",
      "\n",
      "    from bs4 import XMLParsedAsHTMLWarning\n",
      "    import warnings\n",
      "\n",
      "    warnings.filterwarnings(\"ignore\", category=XMLParsedAsHTMLWarning)\n",
      "\n",
      "  soup = BeautifulSoup(raw_html, \"html.parser\")\n"
     ]
    }
   ],
   "source": [
    "from langchain_community.document_loaders import RecursiveUrlLoader # A loader for recursively scraping a website.\n",
    "from langchain_community.document_transformers import Html2TextTransformer # A transformer to convert HTML to plain text.\n",
    "from langchain_community.vectorstores import Chroma # The Chroma vector store implementation.\n",
    "from langchain_text_splitters import TokenTextSplitter # A text splitter that splits based on token count.\n",
    "from langchain_openai import OpenAIEmbeddings # The class for using OpenAI's embedding models.\n",
    "\n",
    "api_loader = RecursiveUrlLoader(\"https://docs.smith.langchain.com\") # Initialize a loader for the LangSmith docs.\n",
    "doc_transformer = Html2TextTransformer() # Initialize the HTML to text transformer.\n",
    "raw_documents = api_loader.load() # Load the raw documents.\n",
    "transformed = doc_transformer.transform_documents(raw_documents) # Transform them into plain text.\n",
    "\n",
    "\n",
    "# Define a factory function to create a retriever based on a given text splitter.\n",
    "def create_retriever(transformed_documents, text_splitter):\n",
    "    documents = text_splitter.split_documents(transformed_documents) # Split the documents.\n",
    "    embeddings = OpenAIEmbeddings() # Initialize the embeddings model.\n",
    "    vectorstore = Chroma.from_documents(documents, embeddings) # Create the vector store.\n",
    "    return vectorstore.as_retriever(search_kwargs={\"k\": 4}) # Return the retriever."
   ]
  },
  {
   "cell_type": "code",
   "execution_count": 11,
   "id": "402da2d5",
   "metadata": {},
   "outputs": [
    {
     "name": "stdout",
     "output_type": "stream",
     "text": [
      "page_content='Skip to main content\n",
      "\n",
      "**OurBuilding Ambient Agents with LangGraph course is now available on\n",
      "LangChain Academy!**\n",
      "\n",
      "API Reference\n",
      "\n",
      "  * REST\n",
      "  * Python\n",
      "  * JS/TS\n",
      "\n",
      "Search\n",
      "\n",
      "Region\n",
      "\n",
      "  * US\n",
      "  * EU\n",
      "\n",
      "Go to App\n",
      "\n",
      "  * Get Started\n",
      "  * Observability\n",
      "\n",
      "  * Evaluation\n",
      "\n",
      "  * Prompt Engineering\n",
      "\n",
      "  * Deployment (LangGraph Platform)\n",
      "  * * * *\n",
      "\n",
      "  * Administration\n",
      "\n",
      "  * Self-hosting\n",
      "\n",
      "  * Pricing\n",
      "\n",
      "  * * * *\n",
      "\n",
      "  * Reference\n",
      "\n",
      "    * Cloud architecture and scalability\n",
      "    * Authz and Authn\n",
      "\n",
      "      * Authentication methods\n",
      "    * data_formats\n",
      "\n",
      "    * Evaluation\n",
      "\n",
      "      * Dataset transformations\n",
      "    * Regions FAQ\n",
      "    * sdk_reference\n",
      "\n",
      "  *   * Get Started\n",
      "\n",
      "On this page\n",
      "\n",
      "# Get started with LangSmith\n",
      "\n",
      "**LangSmith** is a platform for building production-grade LLM applications. It\n",
      "allows you to closely monitor and evaluate your application, so you can ship\n",
      "quickly and with confidence.\n",
      "\n",
      "### Observability\n",
      "\n",
      "Analyze traces in LangSmith and configure metrics, dashboards, alerts based on\n",
      "these.\n",
      "\n",
      "### Evals\n",
      "\n",
      "Evaluate your application over production traffic — score application\n",
      "performance and get human feedback on your data.\n",
      "\n",
      "### Prompt Engineering\n",
      "\n",
      "Iterate on prompts, with automatic version control and collaboration features.\n",
      "\n",
      "LangSmith + LangChain OSS\n",
      "\n",
      "LangSmith is framework-agnostic — it can be used with or without LangChain's\n",
      "open source frameworks `langchain` and `langgraph`.\n",
      "\n",
      "If you are using either of these, you can enable LangSmith tracing with a\n",
      "single environment variable. For more see the how-to guide for setting up\n",
      "LangSmith with LangChain or setting up LangSmith with LangGraph.\n",
      "\n",
      "## Observability​\n",
      "\n",
      "Observability is important for any software application, but especially so for\n",
      "LLM applications. LLMs are non-deterministic by nature, meaning they can\n",
      "produce unexpected results. This makes them trickier than normal to debug.\n",
      "\n",
      "This is where LangSmith can help! LangSmith has LLM-native observability,\n",
      "allowing you to get meaningful insights from your application. LangSmith’s\n",
      "observability features have you covered throughout all stages of application\n",
      "development - from prototyping, to beta testing, to production.\n",
      "\n",
      "  * Get started by adding tracing to your application.\n",
      "  * Create dashboards to view key metrics like RPS, error rates and costs.\n",
      "\n",
      "## Evals​\n",
      "\n",
      "The quality and development speed of AI applications depends on high-quality\n",
      "evaluation datasets and metrics to test and optimize your applications on. The\n",
      "LangSmith SDK and UI make building and running high-quality evaluations easy.\n",
      "\n",
      "  * Get started by creating your first evaluation.\n",
      "  * Quickly assess the performance of your application using our off-the-shelf evaluators as a starting point.\n",
      "  * Analyze results of evaluations in the LangSmith UI and compare results over time.\n",
      "  * Easily collect human feedback on your data to improve your application.\n",
      "\n",
      "## Prompt Engineering​\n",
      "\n",
      "While traditional software applications are built by writing code, AI\n",
      "applications involve writing prompts to instruct the LLM on what to do.\n",
      "LangSmith provides a set of tools designed to enable and facilitate prompt\n",
      "engineering to help you find the perfect prompt for your application.\n",
      "\n",
      "  * Get started by creating your first prompt.\n",
      "  * Iterate on models and prompts using the Playground.\n",
      "  * Manage prompts programmatically in your application.\n",
      "\n",
      "* * *\n",
      "\n",
      "#### Was this page helpful?\n",
      "\n",
      "  \n",
      "\n",
      "#### You can leave detailed feedback on GitHub.\n",
      "\n",
      "Next\n",
      "\n",
      "Quick Start\n",
      "\n",
      "  * Observability\n",
      "  * Evals\n",
      "  * Prompt Engineering\n",
      "\n",
      "Community\n",
      "\n",
      "  * LangChain Forum\n",
      "  * Twitter\n",
      "\n",
      "GitHub\n",
      "\n",
      "  * Docs Code\n",
      "  * LangSmith SDK\n",
      "  * Python\n",
      "  * JS/TS\n",
      "\n",
      "More\n",
      "\n",
      "  * Homepage\n",
      "  * Blog\n",
      "  * LangChain Python Docs\n",
      "  * LangChain JS/TS Docs\n",
      "\n",
      "Copyright © 2025 LangChain, Inc.\n",
      "\n",
      "' metadata={'source': 'https://docs.smith.langchain.com', 'content_type': 'text/html; charset=utf-8', 'title': 'Get started with LangSmith | 🦜️🛠️ LangSmith', 'description': 'LangSmith is a platform for building production-grade LLM applications.', 'language': 'en'}\n"
     ]
    }
   ],
   "source": [
    "print(transformed[0])"
   ]
  },
  {
   "cell_type": "code",
   "execution_count": 10,
   "id": "28117aeb",
   "metadata": {},
   "outputs": [
    {
     "name": "stdout",
     "output_type": "stream",
     "text": [
      "page_content='<!doctype html>\n",
      "<html lang=\"en\" dir=\"ltr\" class=\"docs-wrapper plugin-docs plugin-id-default docs-version-current docs-doc-page docs-doc-id-index\" data-has-hydrated=\"false\">\n",
      "<head>\n",
      "<meta charset=\"UTF-8\">\n",
      "<meta name=\"generator\" content=\"Docusaurus v3.5.2\">\n",
      "<title data-rh=\"true\">Get started with LangSmith | 🦜️🛠️ LangSmith</title><meta data-rh=\"true\" name=\"viewport\" content=\"width=device-width,initial-scale=1\"><meta data-rh=\"true\" name=\"twitter:card\" content=\"summary_large_image\"><meta data-rh=\"true\" property=\"og:image\" content=\"https://docs.smith.langchain.com/img/langsmith-preview.png\"><meta data-rh=\"true\" name=\"twitter:image\" content=\"https://docs.smith.langchain.com/img/langsmith-preview.png\"><meta data-rh=\"true\" property=\"og:url\" content=\"https://docs.smith.langchain.com/\"><meta data-rh=\"true\" property=\"og:locale\" content=\"en\"><meta data-rh=\"true\" name=\"docusaurus_locale\" content=\"en\"><meta data-rh=\"true\" name=\"docsearch:language\" content=\"en\"><meta data-rh=\"true\" name=\"docusaurus_version\" content=\"current\"><meta data-rh=\"true\" name=\"docusaurus_tag\" content=\"docs-default-current\"><meta data-rh=\"true\" name=\"docsearch:version\" content=\"current\"><meta data-rh=\"true\" name=\"docsearch:docusaurus_tag\" content=\"docs-default-current\"><meta data-rh=\"true\" property=\"og:title\" content=\"Get started with LangSmith | 🦜️🛠️ LangSmith\"><meta data-rh=\"true\" name=\"description\" content=\"LangSmith is a platform for building production-grade LLM applications.\"><meta data-rh=\"true\" property=\"og:description\" content=\"LangSmith is a platform for building production-grade LLM applications.\"><link data-rh=\"true\" rel=\"icon\" href=\"/img/favicon.png\"><link data-rh=\"true\" rel=\"canonical\" href=\"https://docs.smith.langchain.com/\"><link data-rh=\"true\" rel=\"alternate\" href=\"https://docs.smith.langchain.com/\" hreflang=\"en\"><link data-rh=\"true\" rel=\"alternate\" href=\"https://docs.smith.langchain.com/\" hreflang=\"x-default\"><link data-rh=\"true\" rel=\"preconnect\" href=\"https://HUOFIK2DR9-dsn.algolia.net\" crossorigin=\"anonymous\"><script data-rh=\"true\">function insertBanner(){var n=document.createElement(\"div\");n.id=\"__docusaurus-base-url-issue-banner-container\";n.innerHTML='\\n<div id=\"__docusaurus-base-url-issue-banner\" style=\"border: thick solid red; background-color: rgb(255, 230, 179); margin: 20px; padding: 20px; font-size: 20px;\">\\n   <p style=\"font-weight: bold; font-size: 30px;\">Your Docusaurus site did not load properly.</p>\\n   <p>A very common reason is a wrong site <a href=\"https://docusaurus.io/docs/docusaurus.config.js/#baseUrl\" style=\"font-weight: bold;\">baseUrl configuration</a>.</p>\\n   <p>Current configured baseUrl = <span style=\"font-weight: bold; color: red;\">/</span>  (default value)</p>\\n   <p>We suggest trying baseUrl = <span id=\"__docusaurus-base-url-issue-banner-suggestion-container\" style=\"font-weight: bold; color: green;\"></span></p>\\n</div>\\n',document.body.prepend(n);var e=document.getElementById(\"__docusaurus-base-url-issue-banner-suggestion-container\"),s=window.location.pathname,o=\"/\"===s.substr(-1)?s:s+\"/\";e.innerHTML=o}document.addEventListener(\"DOMContentLoaded\",(function(){void 0===window.docusaurus&&insertBanner()}))</script><link rel=\"search\" type=\"application/opensearchdescription+xml\" title=\"🦜️🛠️ LangSmith\" href=\"/opensearch.xml\">\n",
      "<link rel=\"preconnect\" href=\"https://www.googletagmanager.com\">\n",
      "<script>window.dataLayer=window.dataLayer||[]</script>\n",
      "<script>!function(e,t,a,n){e[n]=e[n]||[],e[n].push({\"gtm.start\":(new Date).getTime(),event:\"gtm.js\"});var g=t.getElementsByTagName(a)[0],m=t.createElement(a);m.async=!0,m.src=\"https://www.googletagmanager.com/gtm.js?id=GTM-WRT5MXDT\",g.parentNode.insertBefore(m,g)}(window,document,\"script\",\"dataLayer\")</script><link rel=\"stylesheet\" href=\"/assets/css/styles.44923d61.css\">\n",
      "<script src=\"/assets/js/runtime~main.6ef8cafe.js\" defer=\"defer\"></script>\n",
      "<script src=\"/assets/js/main.b02d67d7.js\" defer=\"defer\"></script>\n",
      "</head>\n",
      "<body class=\"navigation-with-keyboard\">\n",
      "<script>!function(){function t(t){document.documentElement.setAttribute(\"data-theme\",t)}var e=function(){try{return new URLSearchParams(window.location.search).get(\"docusaurus-theme\")}catch(t){}}()||function(){try{return window.localStorage.getItem(\"theme\")}catch(t){}}();null!==e?t(e):window.matchMedia(\"(prefers-color-scheme: dark)\").matches?t(\"dark\"):(window.matchMedia(\"(prefers-color-scheme: light)\").matches,t(\"light\"))}(),function(){try{const n=new URLSearchParams(window.location.search).entries();for(var[t,e]of n)if(t.startsWith(\"docusaurus-data-\")){var a=t.replace(\"docusaurus-data-\",\"data-\");document.documentElement.setAttribute(a,e)}}catch(t){}}(),document.documentElement.setAttribute(\"data-announcement-bar-initially-dismissed\",function(){try{return\"true\"===localStorage.getItem(\"docusaurus.announcement.dismiss\")}catch(t){}return!1}())</script>\n",
      "\n",
      "<noscript><iframe src=\"https://www.googletagmanager.com/ns.html?id=GTM-WRT5MXDT\" height=\"0\" width=\"0\" style=\"display:none;visibility:hidden\"></iframe></noscript><div id=\"__docusaurus\"><script>!function(){try{var e=localStorage.getItem(\"joy-mode\")||\"light\",t=\"\";if(\"system\"===e)t=window.matchMedia(\"(prefers-color-scheme: dark)\").matches?localStorage.getItem(\"joy-color-scheme-dark\")||\"dark\":localStorage.getItem(\"joy-color-scheme-light\")||\"light\";\"light\"===e&&(t=localStorage.getItem(\"joy-color-scheme-light\")||\"light\"),\"dark\"===e&&(t=localStorage.getItem(\"joy-color-scheme-dark\")||\"dark\"),t&&document.documentElement.setAttribute(\"data-joy-color-scheme\",t)}catch(e){}}()</script><style data-emotion=\"css-global z7soy7\">html{-webkit-font-smoothing:antialiased;-moz-osx-font-smoothing:grayscale;box-sizing:border-box;-webkit-text-size-adjust:100%;}*,*::before,*::after{box-sizing:inherit;}strong,b{font-weight:var(--joy-fontWeight-lg, 600);}body{margin:0;color:var(--joy-palette-text-secondary, var(--joy-palette-neutral-700, #32383E));font-family:var(--joy-fontFamily-body, \"Inter\", var(--joy-fontFamily-fallback, -apple-system, BlinkMacSystemFont, \"Segoe UI\", Roboto, Helvetica, Arial, sans-serif, \"Apple Color Emoji\", \"Segoe UI Emoji\", \"Segoe UI Symbol\"));font-size:var(--joy-fontSize-md, 1rem);line-height:var(--joy-lineHeight-md, 1.5);background-color:var(--joy-palette-background-body, var(--joy-palette-common-white, #FFF));}@media print{body{background-color:var(--joy-palette-common-white, #FFF);}}body::backdrop{background-color:var(--joy-palette-background-backdrop, rgba(var(--joy-palette-neutral-darkChannel, 11 13 14) / 0.25));}{-webkit-print-color-scheme:light;color-scheme:light;}[data-joy-color-scheme=\"dark\"],[data-joy-color-scheme=\"dark\"]{-webkit-print-color-scheme:dark;color-scheme:dark;}</style><style data-emotion=\"css-global 10u9s79\">:root{--joy-fontSize-xs:0.75rem;--joy-fontSize-sm:0.875rem;--joy-fontSize-md:1rem;--joy-fontSize-lg:1.125rem;--joy-fontSize-xl:1.25rem;--joy-fontSize-xl2:1.5rem;--joy-fontSize-xl3:1.875rem;--joy-fontSize-xl4:2.25rem;--joy-fontFamily-body:\"Inter\",var(--joy-fontFamily-fallback, -apple-system, BlinkMacSystemFont, \"Segoe UI\", Roboto, Helvetica, Arial, sans-serif, \"Apple Color Emoji\", \"Segoe UI Emoji\", \"Segoe UI Symbol\");--joy-fontFamily-display:\"Inter\",var(--joy-fontFamily-fallback, -apple-system, BlinkMacSystemFont, \"Segoe UI\", Roboto, Helvetica, Arial, sans-serif, \"Apple Color Emoji\", \"Segoe UI Emoji\", \"Segoe UI Symbol\");--joy-fontFamily-code:Source Code Pro,ui-monospace,SFMono-Regular,Menlo,Monaco,Consolas,Liberation Mono,Courier New,monospace;--joy-fontFamily-fallback:-apple-system,BlinkMacSystemFont,\"Segoe UI\",Roboto,Helvetica,Arial,sans-serif,\"Apple Color Emoji\",\"Segoe UI Emoji\",\"Segoe UI Symbol\";--joy-fontWeight-sm:300;--joy-fontWeight-md:500;--joy-fontWeight-lg:600;--joy-fontWeight-xl:700;--joy-focus-thickness:2px;--joy-lineHeight-xs:1.33334;--joy-lineHeight-sm:1.42858;--joy-lineHeight-md:1.5;--joy-lineHeight-lg:1.55556;--joy-lineHeight-xl:1.66667;--joy-radius-xs:2px;--joy-radius-sm:6px;--joy-radius-md:8px;--joy-radius-lg:12px;--joy-radius-xl:16px;--joy-shadow-xs:var(--joy-shadowRing, 0 0 #000),0px 1px 2px 0px rgba(var(--joy-shadowChannel, 21 21 21) / var(--joy-shadowOpacity, 0.08));--joy-shadow-sm:var(--joy-shadowRing, 0 0 #000),0px 1px 2px 0px rgba(var(--joy-shadowChannel, 21 21 21) / var(--joy-shadowOpacity, 0.08)),0px 2px 4px 0px rgba(var(--joy-shadowChannel, 21 21 21) / var(--joy-shadowOpacity, 0.08));--joy-shadow-md:var(--joy-shadowRing, 0 0 #000),0px 2px 8px -2px rgba(var(--joy-shadowChannel, 21 21 21) / var(--joy-shadowOpacity, 0.08)),0px 6px 12px -2px rgba(var(--joy-shadowChannel, 21 21 21) / var(--joy-shadowOpacity, 0.08));--joy-shadow-lg:var(--joy-shadowRing, 0 0 #000),0px 2px 8px -2px rgba(var(--joy-shadowChannel, 21 21 21) / var(--joy-shadowOpacity, 0.08)),0px 12px 16px -4px rgba(var(--joy-shadowChannel, 21 21 21) / var(--joy-shadowOpacity, 0.08));--joy-shadow-xl:var(--joy-shadowRing, 0 0 #000),0px 2px 8px -2px rgba(var(--joy-shadowChannel, 21 21 21) / var(--joy-shadowOpacity, 0.08)),0px 20px 24px -4px rgba(var(--joy-shadowChannel, 21 21 21) / var(--joy-shadowOpacity, 0.08));--joy-zIndex-badge:1;--joy-zIndex-table:10;--joy-zIndex-popup:1000;--joy-zIndex-modal:1300;--joy-zIndex-snackbar:1400;--joy-zIndex-tooltip:1500;}</style><style data-emotion=\"css-global afv32s\">:root,[data-joy-color-scheme=\"light\"]{--joy-palette-primary-50:#EDF5FD;--joy-palette-primary-100:#E3EFFB;--joy-palette-primary-200:#C7DFF7;--joy-palette-primary-300:#97C3F0;--joy-palette-primary-400:#4393E4;--joy-palette-primary-500:#0B6BCB;--joy-palette-primary-600:#185EA5;--joy-palette-primary-700:#12467B;--joy-palette-primary-800:#0A2744;--joy-palette-primary-900:#051423;--joy-palette-primary-plainColor:var(--joy-palette-primary-500, #0B6BCB);--joy-palette-primary-plainHoverBg:var(--joy-palette-primary-100, #E3EFFB);--joy-palette-primary-plainActiveBg:var(--joy-palette-primary-200, #C7DFF7);--joy-palette-primary-plainDisabledColor:var(--joy-palette-neutral-400, #9FA6AD);--joy-palette-primary-outlinedColor:var(--joy-palette-primary-500, #0B6BCB);--joy-palette-primary-outlinedBorder:var(--joy-palette-primary-300, #97C3F0);--joy-palette-primary-outlinedHoverBg:var(--joy-palette-primary-100, #E3EFFB);--joy-palette-primary-outlinedActiveBg:var(--joy-palette-primary-200, #C7DFF7);--joy-palette-primary-outlinedDisabledColor:var(--joy-palette-neutral-400, #9FA6AD);--joy-palette-primary-outlinedDisabledBorder:var(--joy-palette-neutral-200, #DDE7EE);--joy-palette-primary-softColor:var(--joy-palette-primary-700, #12467B);--joy-palette-primary-softBg:var(--joy-palette-primary-100, #E3EFFB);--joy-palette-primary-softHoverBg:var(--joy-palette-primary-200, #C7DFF7);--joy-palette-primary-softActiveColor:var(--joy-palette-primary-800, #0A2744);--joy-palette-primary-softActiveBg:var(--joy-palette-primary-300, #97C3F0);--joy-palette-primary-softDisabledColor:var(--joy-palette-neutral-400, #9FA6AD);--joy-palette-primary-softDisabledBg:var(--joy-palette-neutral-50, #FBFCFE);--joy-palette-primary-solidColor:var(--joy-palette-common-white, #FFF);--joy-palette-primary-solidBg:var(--joy-palette-primary-500, #0B6BCB);--joy-palette-primary-solidHoverBg:var(--joy-palette-primary-600, #185EA5);--joy-palette-primary-solidActiveBg:var(--joy-palette-primary-700, #12467B);--joy-palette-primary-solidDisabledColor:var(--joy-palette-neutral-400, #9FA6AD);--joy-palette-primary-solidDisabledBg:var(--joy-palette-neutral-100, #F0F4F8);--joy-palette-primary-mainChannel:11 107 203;--joy-palette-primary-lightChannel:199 223 247;--joy-palette-primary-darkChannel:18 70 123;--joy-palette-neutral-50:#FBFCFE;--joy-palette-neutral-100:#F0F4F8;--joy-palette-neutral-200:#DDE7EE;--joy-palette-neutral-300:#CDD7E1;--joy-palette-neutral-400:#9FA6AD;--joy-palette-neutral-500:#636B74;--joy-palette-neutral-600:#555E68;--joy-palette-neutral-700:#32383E;--joy-palette-neutral-800:#171A1C;--joy-palette-neutral-900:#0B0D0E;--joy-palette-neutral-plainColor:var(--joy-palette-neutral-700, #32383E);--joy-palette-neutral-plainHoverBg:var(--joy-palette-neutral-100, #F0F4F8);--joy-palette-neutral-plainActiveBg:var(--joy-palette-neutral-200, #DDE7EE);--joy-palette-neutral-plainDisabledColor:var(--joy-palette-neutral-400, #9FA6AD);--joy-palette-neutral-outlinedColor:var(--joy-palette-neutral-700, #32383E);--joy-palette-neutral-outlinedBorder:var(--joy-palette-neutral-300, #CDD7E1);--joy-palette-neutral-outlinedHoverBg:var(--joy-palette-neutral-100, #F0F4F8);--joy-palette-neutral-outlinedActiveBg:var(--joy-palette-neutral-200, #DDE7EE);--joy-palette-neutral-outlinedDisabledColor:var(--joy-palette-neutral-400, #9FA6AD);--joy-palette-neutral-outlinedDisabledBorder:var(--joy-palette-neutral-200, #DDE7EE);--joy-palette-neutral-softColor:var(--joy-palette-neutral-700, #32383E);--joy-palette-neutral-softBg:var(--joy-palette-neutral-100, #F0F4F8);--joy-palette-neutral-softHoverBg:var(--joy-palette-neutral-200, #DDE7EE);--joy-palette-neutral-softActiveColor:var(--joy-palette-neutral-800, #171A1C);--joy-palette-neutral-softActiveBg:var(--joy-palette-neutral-300, #CDD7E1);--joy-palette-neutral-softDisabledColor:var(--joy-palette-neutral-400, #9FA6AD);--joy-palette-neutral-softDisabledBg:var(--joy-palette-neutral-50, #FBFCFE);--joy-palette-neutral-solidColor:var(--joy-palette-common-white, #FFF);--joy-palette-neutral-solidBg:var(--joy-palette-neutral-500, #636B74);--joy-palette-neutral-solidHoverBg:var(--joy-palette-neutral-600, #555E68);--joy-palette-neutral-solidActiveBg:var(--joy-palette-neutral-700, #32383E);--joy-palette-neutral-solidDisabledColor:var(--joy-palette-neutral-400, #9FA6AD);--joy-palette-neutral-solidDisabledBg:var(--joy-palette-neutral-100, #F0F4F8);--joy-palette-neutral-plainHoverColor:var(--joy-palette-neutral-900, #0B0D0E);--joy-palette-neutral-mainChannel:99 107 116;--joy-palette-neutral-lightChannel:221 231 238;--joy-palette-neutral-darkChannel:50 56 62;--joy-palette-danger-50:#FEF6F6;--joy-palette-danger-100:#FCE4E4;--joy-palette-danger-200:#F7C5C5;--joy-palette-danger-300:#F09898;--joy-palette-danger-400:#E47474;--joy-palette-danger-500:#C41C1C;--joy-palette-danger-600:#A51818;--joy-palette-danger-700:#7D1212;--joy-palette-danger-800:#430A0A;--joy-palette-danger-900:#240505;--joy-palette-danger-plainColor:var(--joy-palette-danger-500, #C41C1C);--joy-palette-danger-plainHoverBg:var(--joy-palette-danger-100, #FCE4E4);--joy-palette-danger-plainActiveBg:var(--joy-palette-danger-200, #F7C5C5);--joy-palette-danger-plainDisabledColor:var(--joy-palette-neutral-400, #9FA6AD);--joy-palette-danger-outlinedColor:var(--joy-palette-danger-500, #C41C1C);--joy-palette-danger-outlinedBorder:var(--joy-palette-danger-300, #F09898);--joy-palette-danger-outlinedHoverBg:var(--joy-palette-danger-100, #FCE4E4);--joy-palette-danger-outlinedActiveBg:var(--joy-palette-danger-200, #F7C5C5);--joy-palette-danger-outlinedDisabledColor:var(--joy-palette-neutral-400, #9FA6AD);--joy-palette-danger-outlinedDisabledBorder:var(--joy-palette-neutral-200, #DDE7EE);--joy-palette-danger-softColor:var(--joy-palette-danger-700, #7D1212);--joy-palette-danger-softBg:var(--joy-palette-danger-100, #FCE4E4);--joy-palette-danger-softHoverBg:var(--joy-palette-danger-200, #F7C5C5);--joy-palette-danger-softActiveColor:var(--joy-palette-danger-800, #430A0A);--joy-palette-danger-softActiveBg:var(--joy-palette-danger-300, #F09898);--joy-palette-danger-softDisabledColor:var(--joy-palette-neutral-400, #9FA6AD);--joy-palette-danger-softDisabledBg:var(--joy-palette-neutral-50, #FBFCFE);--joy-palette-danger-solidColor:var(--joy-palette-common-white, #FFF);--joy-palette-danger-solidBg:var(--joy-palette-danger-500, #C41C1C);--joy-palette-danger-solidHoverBg:var(--joy-palette-danger-600, #A51818);--joy-palette-danger-solidActiveBg:var(--joy-palette-danger-700, #7D1212);--joy-palette-danger-solidDisabledColor:var(--joy-palette-neutral-400, #9FA6AD);--joy-palette-danger-solidDisabledBg:var(--joy-palette-neutral-100, #F0F4F8);--joy-palette-danger-mainChannel:196 28 28;--joy-palette-danger-lightChannel:247 197 197;--joy-palette-danger-darkChannel:125 18 18;--joy-palette-success-50:#F6FEF6;--joy-palette-success-100:#E3FBE3;--joy-palette-success-200:#C7F7C7;--joy-palette-success-300:#A1E8A1;--joy-palette-success-400:#51BC51;--joy-palette-success-500:#1F7A1F;--joy-palette-success-600:#136C13;--joy-palette-success-700:#0A470A;--joy-palette-success-800:#042F04;--joy-palette-success-900:#021D02;--joy-palette-success-plainColor:var(--joy-palette-success-500, #1F7A1F);--joy-palette-success-plainHoverBg:var(--joy-palette-success-100, #E3FBE3);--joy-palette-success-plainActiveBg:var(--joy-palette-success-200, #C7F7C7);--joy-palette-success-plainDisabledColor:var(--joy-palette-neutral-400, #9FA6AD);--joy-palette-success-outlinedColor:var(--joy-palette-success-500, #1F7A1F);--joy-palette-success-outlinedBorder:var(--joy-palette-success-300, #A1E8A1);--joy-palette-success-outlinedHoverBg:var(--joy-palette-success-100, #E3FBE3);--joy-palette-success-outlinedActiveBg:var(--joy-palette-success-200, #C7F7C7);--joy-palette-success-outlinedDisabledColor:var(--joy-palette-neutral-400, #9FA6AD);--joy-palette-success-outlinedDisabledBorder:var(--joy-palette-neutral-200, #DDE7EE);--joy-palette-success-softColor:var(--joy-palette-success-700, #0A470A);--joy-palette-success-softBg:var(--joy-palette-success-100, #E3FBE3);--joy-palette-success-softHoverBg:var(--joy-palette-success-200, #C7F7C7);--joy-palette-success-softActiveColor:var(--joy-palette-success-800, #042F04);--joy-palette-success-softActiveBg:var(--joy-palette-success-300, #A1E8A1);--joy-palette-success-softDisabledColor:var(--joy-palette-neutral-400, #9FA6AD);--joy-palette-success-softDisabledBg:var(--joy-palette-neutral-50, #FBFCFE);--joy-palette-success-solidColor:var(--joy-palette-common-white, #FFF);--joy-palette-success-solidBg:var(--joy-palette-success-500, #1F7A1F);--joy-palette-success-solidHoverBg:var(--joy-palette-success-600, #136C13);--joy-palette-success-solidActiveBg:var(--joy-palette-success-700, #0A470A);--joy-palette-success-solidDisabledColor:var(--joy-palette-neutral-400, #9FA6AD);--joy-palette-success-solidDisabledBg:var(--joy-palette-neutral-100, #F0F4F8);--joy-palette-success-mainChannel:31 122 31;--joy-palette-success-lightChannel:199 247 199;--joy-palette-success-darkChannel:10 71 10;--joy-palette-warning-50:#FEFAF6;--joy-palette-warning-100:#FDF0E1;--joy-palette-warning-200:#FCE1C2;--joy-palette-warning-300:#F3C896;--joy-palette-warning-400:#EA9A3E;--joy-palette-warning-500:#9A5B13;--joy-palette-warning-600:#72430D;--joy-palette-warning-700:#492B08;--joy-palette-warning-800:#2E1B05;--joy-palette-warning-900:#1D1002;--joy-palette-warning-plainColor:var(--joy-palette-warning-500, #9A5B13);--joy-palette-warning-plainHoverBg:var(--joy-palette-warning-100, #FDF0E1);--joy-palette-warning-plainActiveBg:var(--joy-palette-warning-200, #FCE1C2);--joy-palette-warning-plainDisabledColor:var(--joy-palette-neutral-400, #9FA6AD);--joy-palette-warning-outlinedColor:var(--joy-palette-warning-500, #9A5B13);--joy-palette-warning-outlinedBorder:var(--joy-palette-warning-300, #F3C896);--joy-palette-warning-outlinedHoverBg:var(--joy-palette-warning-100, #FDF0E1);--joy-palette-warning-outlinedActiveBg:var(--joy-palette-warning-200, #FCE1C2);--joy-palette-warning-outlinedDisabledColor:var(--joy-palette-neutral-400, #9FA6AD);--joy-palette-warning-outlinedDisabledBorder:var(--joy-palette-neutral-200, #DDE7EE);--joy-palette-warning-softColor:var(--joy-palette-warning-700, #492B08);--joy-palette-warning-softBg:var(--joy-palette-warning-100, #FDF0E1);--joy-palette-warning-softHoverBg:var(--joy-palette-warning-200, #FCE1C2);--joy-palette-warning-softActiveColor:var(--joy-palette-warning-800, #2E1B05);--joy-palette-warning-softActiveBg:var(--joy-palette-warning-300, #F3C896);--joy-palette-warning-softDisabledColor:var(--joy-palette-neutral-400, #9FA6AD);--joy-palette-warning-softDisabledBg:var(--joy-palette-neutral-50, #FBFCFE);--joy-palette-warning-solidColor:var(--joy-palette-common-white, #FFF);--joy-palette-warning-solidBg:var(--joy-palette-warning-500, #9A5B13);--joy-palette-warning-solidHoverBg:var(--joy-palette-warning-600, #72430D);--joy-palette-warning-solidActiveBg:var(--joy-palette-warning-700, #492B08);--joy-palette-warning-solidDisabledColor:var(--joy-palette-neutral-400, #9FA6AD);--joy-palette-warning-solidDisabledBg:var(--joy-palette-neutral-100, #F0F4F8);--joy-palette-warning-mainChannel:154 91 19;--joy-palette-warning-lightChannel:252 225 194;--joy-palette-warning-darkChannel:73 43 8;--joy-palette-common-white:#FFF;--joy-palette-common-black:#000;--joy-palette-text-primary:var(--joy-palette-neutral-800, #171A1C);--joy-palette-text-secondary:var(--joy-palette-neutral-700, #32383E);--joy-palette-text-tertiary:var(--joy-palette-neutral-600, #555E68);--joy-palette-text-icon:var(--joy-palette-neutral-500, #636B74);--joy-palette-background-body:var(--joy-palette-common-white, #FFF);--joy-palette-background-surface:var(--joy-palette-neutral-50, #FBFCFE);--joy-palette-background-popup:var(--joy-palette-common-white, #FFF);--joy-palette-background-level1:var(--joy-palette-neutral-100, #F0F4F8);--joy-palette-background-level2:var(--joy-palette-neutral-200, #DDE7EE);--joy-palette-background-level3:var(--joy-palette-neutral-300, #CDD7E1);--joy-palette-background-tooltip:var(--joy-palette-neutral-500, #636B74);--joy-palette-background-backdrop:rgba(var(--joy-palette-neutral-darkChannel, 11 13 14) / 0.25);--joy-palette-divider:rgba(var(--joy-palette-neutral-mainChannel, 99 107 116) / 0.2);--joy-palette-focusVisible:var(--joy-palette-primary-500, #0B6BCB);--joy-shadowRing:0 0 #000;--joy-shadowChannel:21 21 21;--joy-shadowOpacity:0.08;}</style><style data-emotion=\"css-global 6bw9eu\">[data-joy-color-scheme=\"dark\"]{--joy-palette-primary-50:#EDF5FD;--joy-palette-primary-100:#E3EFFB;--joy-palette-primary-200:#C7DFF7;--joy-palette-primary-300:#97C3F0;--joy-palette-primary-400:#4393E4;--joy-palette-primary-500:#0B6BCB;--joy-palette-primary-600:#185EA5;--joy-palette-primary-700:#12467B;--joy-palette-primary-800:#0A2744;--joy-palette-primary-900:#051423;--joy-palette-primary-plainColor:var(--joy-palette-primary-300, #97C3F0);--joy-palette-primary-plainHoverBg:var(--joy-palette-primary-800, #0A2744);--joy-palette-primary-plainActiveBg:var(--joy-palette-primary-700, #12467B);--joy-palette-primary-plainDisabledColor:var(--joy-palette-neutral-500, #636B74);--joy-palette-primary-outlinedColor:var(--joy-palette-primary-200, #C7DFF7);--joy-palette-primary-outlinedBorder:var(--joy-palette-primary-700, #12467B);--joy-palette-primary-outlinedHoverBg:var(--joy-palette-primary-800, #0A2744);--joy-palette-primary-outlinedActiveBg:var(--joy-palette-primary-700, #12467B);--joy-palette-primary-outlinedDisabledColor:var(--joy-palette-neutral-500, #636B74);--joy-palette-primary-outlinedDisabledBorder:var(--joy-palette-neutral-800, #171A1C);--joy-palette-primary-softColor:var(--joy-palette-primary-200, #C7DFF7);--joy-palette-primary-softBg:var(--joy-palette-primary-800, #0A2744);--joy-palette-primary-softHoverBg:var(--joy-palette-primary-700, #12467B);--joy-palette-primary-softActiveColor:var(--joy-palette-primary-100, #E3EFFB);--joy-palette-primary-softActiveBg:var(--joy-palette-primary-600, #185EA5);--joy-palette-primary-softDisabledColor:var(--joy-palette-neutral-500, #636B74);--joy-palette-primary-softDisabledBg:var(--joy-palette-neutral-800, #171A1C);--joy-palette-primary-solidColor:var(--joy-palette-common-white, #FFF);--joy-palette-primary-solidBg:var(--joy-palette-primary-500, #0B6BCB);--joy-palette-primary-solidHoverBg:var(--joy-palette-primary-600, #185EA5);--joy-palette-primary-solidActiveBg:var(--joy-palette-primary-700, #12467B);--joy-palette-primary-solidDisabledColor:var(--joy-palette-neutral-500, #636B74);--joy-palette-primary-solidDisabledBg:var(--joy-palette-neutral-800, #171A1C);--joy-palette-primary-mainChannel:67 147 228;--joy-palette-primary-lightChannel:199 223 247;--joy-palette-primary-darkChannel:18 70 123;--joy-palette-neutral-50:#FBFCFE;--joy-palette-neutral-100:#F0F4F8;--joy-palette-neutral-200:#DDE7EE;--joy-palette-neutral-300:#CDD7E1;--joy-palette-neutral-400:#9FA6AD;--joy-palette-neutral-500:#636B74;--joy-palette-neutral-600:#555E68;--joy-palette-neutral-700:#32383E;--joy-palette-neutral-800:#171A1C;--joy-palette-neutral-900:#0B0D0E;--joy-palette-neutral-plainColor:var(--joy-palette-neutral-300, #CDD7E1);--joy-palette-neutral-plainHoverBg:var(--joy-palette-neutral-800, #171A1C);--joy-palette-neutral-plainActiveBg:var(--joy-palette-neutral-700, #32383E);--joy-palette-neutral-plainDisabledColor:var(--joy-palette-neutral-500, #636B74);--joy-palette-neutral-outlinedColor:var(--joy-palette-neutral-200, #DDE7EE);--joy-palette-neutral-outlinedBorder:var(--joy-palette-neutral-700, #32383E);--joy-palette-neutral-outlinedHoverBg:var(--joy-palette-neutral-800, #171A1C);--joy-palette-neutral-outlinedActiveBg:var(--joy-palette-neutral-700, #32383E);--joy-palette-neutral-outlinedDisabledColor:var(--joy-palette-neutral-500, #636B74);--joy-palette-neutral-outlinedDisabledBorder:var(--joy-palette-neutral-800, #171A1C);--joy-palette-neutral-softColor:var(--joy-palette-neutral-200, #DDE7EE);--joy-palette-neutral-softBg:var(--joy-palette-neutral-800, #171A1C);--joy-palette-neutral-softHoverBg:var(--joy-palette-neutral-700, #32383E);--joy-palette-neutral-softActiveColor:var(--joy-palette-neutral-100, #F0F4F8);--joy-palette-neutral-softActiveBg:var(--joy-palette-neutral-600, #555E68);--joy-palette-neutral-softDisabledColor:var(--joy-palette-neutral-500, #636B74);--joy-palette-neutral-softDisabledBg:var(--joy-palette-neutral-800, #171A1C);--joy-palette-neutral-solidColor:var(--joy-palette-common-white, #FFF);--joy-palette-neutral-solidBg:var(--joy-palette-neutral-500, #636B74);--joy-palette-neutral-solidHoverBg:var(--joy-palette-neutral-600, #555E68);--joy-palette-neutral-solidActiveBg:var(--joy-palette-neutral-700, #32383E);--joy-palette-neutral-solidDisabledColor:var(--joy-palette-neutral-500, #636B74);--joy-palette-neutral-solidDisabledBg:var(--joy-palette-neutral-800, #171A1C);--joy-palette-neutral-plainHoverColor:var(--joy-palette-neutral-300, #CDD7E1);--joy-palette-neutral-mainChannel:159 166 173;--joy-palette-neutral-lightChannel:221 231 238;--joy-palette-neutral-darkChannel:50 56 62;--joy-palette-danger-50:#FEF6F6;--joy-palette-danger-100:#FCE4E4;--joy-palette-danger-200:#F7C5C5;--joy-palette-danger-300:#F09898;--joy-palette-danger-400:#E47474;--joy-palette-danger-500:#C41C1C;--joy-palette-danger-600:#A51818;--joy-palette-danger-700:#7D1212;--joy-palette-danger-800:#430A0A;--joy-palette-danger-900:#240505;--joy-palette-danger-plainColor:var(--joy-palette-danger-300, #F09898);--joy-palette-danger-plainHoverBg:var(--joy-palette-danger-800, #430A0A);--joy-palette-danger-plainActiveBg:var(--joy-palette-danger-700, #7D1212);--joy-palette-danger-plainDisabledColor:var(--joy-palette-neutral-500, #636B74);--joy-palette-danger-outlinedColor:var(--joy-palette-danger-200, #F7C5C5);--joy-palette-danger-outlinedBorder:var(--joy-palette-danger-700, #7D1212);--joy-palette-danger-outlinedHoverBg:var(--joy-palette-danger-800, #430A0A);--joy-palette-danger-outlinedActiveBg:var(--joy-palette-danger-700, #7D1212);--joy-palette-danger-outlinedDisabledColor:var(--joy-palette-neutral-500, #636B74);--joy-palette-danger-outlinedDisabledBorder:var(--joy-palette-neutral-800, #171A1C);--joy-palette-danger-softColor:var(--joy-palette-danger-200, #F7C5C5);--joy-palette-danger-softBg:var(--joy-palette-danger-800, #430A0A);--joy-palette-danger-softHoverBg:var(--joy-palette-danger-700, #7D1212);--joy-palette-danger-softActiveColor:var(--joy-palette-danger-100, #FCE4E4);--joy-palette-danger-softActiveBg:var(--joy-palette-danger-600, #A51818);--joy-palette-danger-softDisabledColor:var(--joy-palette-neutral-500, #636B74);--joy-palette-danger-softDisabledBg:var(--joy-palette-neutral-800, #171A1C);--joy-palette-danger-solidColor:var(--joy-palette-common-white, #FFF);--joy-palette-danger-solidBg:var(--joy-palette-danger-500, #C41C1C);--joy-palette-danger-solidHoverBg:var(--joy-palette-danger-600, #A51818);--joy-palette-danger-solidActiveBg:var(--joy-palette-danger-700, #7D1212);--joy-palette-danger-solidDisabledColor:var(--joy-palette-neutral-500, #636B74);--joy-palette-danger-solidDisabledBg:var(--joy-palette-neutral-800, #171A1C);--joy-palette-danger-mainChannel:228 116 116;--joy-palette-danger-lightChannel:247 197 197;--joy-palette-danger-darkChannel:125 18 18;--joy-palette-success-50:#F6FEF6;--joy-palette-success-100:#E3FBE3;--joy-palette-success-200:#C7F7C7;--joy-palette-success-300:#A1E8A1;--joy-palette-success-400:#51BC51;--joy-palette-success-500:#1F7A1F;--joy-palette-success-600:#136C13;--joy-palette-success-700:#0A470A;--joy-palette-success-800:#042F04;--joy-palette-success-900:#021D02;--joy-palette-success-plainColor:var(--joy-palette-success-300, #A1E8A1);--joy-palette-success-plainHoverBg:var(--joy-palette-success-800, #042F04);--joy-palette-success-plainActiveBg:var(--joy-palette-success-700, #0A470A);--joy-palette-success-plainDisabledColor:var(--joy-palette-neutral-500, #636B74);--joy-palette-success-outlinedColor:var(--joy-palette-success-200, #C7F7C7);--joy-palette-success-outlinedBorder:var(--joy-palette-success-700, #0A470A);--joy-palette-success-outlinedHoverBg:var(--joy-palette-success-800, #042F04);--joy-palette-success-outlinedActiveBg:var(--joy-palette-success-700, #0A470A);--joy-palette-success-outlinedDisabledColor:var(--joy-palette-neutral-500, #636B74);--joy-palette-success-outlinedDisabledBorder:var(--joy-palette-neutral-800, #171A1C);--joy-palette-success-softColor:var(--joy-palette-success-200, #C7F7C7);--joy-palette-success-softBg:var(--joy-palette-success-800, #042F04);--joy-palette-success-softHoverBg:var(--joy-palette-success-700, #0A470A);--joy-palette-success-softActiveColor:var(--joy-palette-success-100, #E3FBE3);--joy-palette-success-softActiveBg:var(--joy-palette-success-600, #136C13);--joy-palette-success-softDisabledColor:var(--joy-palette-neutral-500, #636B74);--joy-palette-success-softDisabledBg:var(--joy-palette-neutral-800, #171A1C);--joy-palette-success-solidColor:var(--joy-palette-common-white, #FFF);--joy-palette-success-solidBg:var(--joy-palette-success-500, #1F7A1F);--joy-palette-success-solidHoverBg:var(--joy-palette-success-600, #136C13);--joy-palette-success-solidActiveBg:var(--joy-palette-success-700, #0A470A);--joy-palette-success-solidDisabledColor:var(--joy-palette-neutral-500, #636B74);--joy-palette-success-solidDisabledBg:var(--joy-palette-neutral-800, #171A1C);--joy-palette-success-mainChannel:81 188 81;--joy-palette-success-lightChannel:199 247 199;--joy-palette-success-darkChannel:10 71 10;--joy-palette-warning-50:#FEFAF6;--joy-palette-warning-100:#FDF0E1;--joy-palette-warning-200:#FCE1C2;--joy-palette-warning-300:#F3C896;--joy-palette-warning-400:#EA9A3E;--joy-palette-warning-500:#9A5B13;--joy-palette-warning-600:#72430D;--joy-palette-warning-700:#492B08;--joy-palette-warning-800:#2E1B05;--joy-palette-warning-900:#1D1002;--joy-palette-warning-plainColor:var(--joy-palette-warning-300, #F3C896);--joy-palette-warning-plainHoverBg:var(--joy-palette-warning-800, #2E1B05);--joy-palette-warning-plainActiveBg:var(--joy-palette-warning-700, #492B08);--joy-palette-warning-plainDisabledColor:var(--joy-palette-neutral-500, #636B74);--joy-palette-warning-outlinedColor:var(--joy-palette-warning-200, #FCE1C2);--joy-palette-warning-outlinedBorder:var(--joy-palette-warning-700, #492B08);--joy-palette-warning-outlinedHoverBg:var(--joy-palette-warning-800, #2E1B05);--joy-palette-warning-outlinedActiveBg:var(--joy-palette-warning-700, #492B08);--joy-palette-warning-outlinedDisabledColor:var(--joy-palette-neutral-500, #636B74);--joy-palette-warning-outlinedDisabledBorder:var(--joy-palette-neutral-800, #171A1C);--joy-palette-warning-softColor:var(--joy-palette-warning-200, #FCE1C2);--joy-palette-warning-softBg:var(--joy-palette-warning-800, #2E1B05);--joy-palette-warning-softHoverBg:var(--joy-palette-warning-700, #492B08);--joy-palette-warning-softActiveColor:var(--joy-palette-warning-100, #FDF0E1);--joy-palette-warning-softActiveBg:var(--joy-palette-warning-600, #72430D);--joy-palette-warning-softDisabledColor:var(--joy-palette-neutral-500, #636B74);--joy-palette-warning-softDisabledBg:var(--joy-palette-neutral-800, #171A1C);--joy-palette-warning-solidColor:var(--joy-palette-common-white, #FFF);--joy-palette-warning-solidBg:var(--joy-palette-warning-500, #9A5B13);--joy-palette-warning-solidHoverBg:var(--joy-palette-warning-600, #72430D);--joy-palette-warning-solidActiveBg:var(--joy-palette-warning-700, #492B08);--joy-palette-warning-solidDisabledColor:var(--joy-palette-neutral-500, #636B74);--joy-palette-warning-solidDisabledBg:var(--joy-palette-neutral-800, #171A1C);--joy-palette-warning-mainChannel:234 154 62;--joy-palette-warning-lightChannel:252 225 194;--joy-palette-warning-darkChannel:73 43 8;--joy-palette-common-white:#FFF;--joy-palette-common-black:#000;--joy-palette-text-primary:var(--joy-palette-neutral-100, #F0F4F8);--joy-palette-text-secondary:var(--joy-palette-neutral-300, #CDD7E1);--joy-palette-text-tertiary:var(--joy-palette-neutral-400, #9FA6AD);--joy-palette-text-icon:var(--joy-palette-neutral-400, #9FA6AD);--joy-palette-background-body:var(--joy-palette-common-black, #000);--joy-palette-background-surface:var(--joy-palette-neutral-900, #0B0D0E);--joy-palette-background-popup:var(--joy-palette-common-black, #000);--joy-palette-background-level1:var(--joy-palette-neutral-800, #171A1C);--joy-palette-background-level2:var(--joy-palette-neutral-700, #32383E);--joy-palette-background-level3:var(--joy-palette-neutral-600, #555E68);--joy-palette-background-tooltip:var(--joy-palette-neutral-600, #555E68);--joy-palette-background-backdrop:rgba(var(--joy-palette-neutral-darkChannel, 251 252 254) / 0.25);--joy-palette-divider:rgba(var(--joy-palette-neutral-mainChannel, 99 107 116) / 0.16);--joy-palette-focusVisible:var(--joy-palette-primary-500, #0B6BCB);--joy-shadowRing:0 0 #000;--joy-shadowChannel:0 0 0;--joy-shadowOpacity:0.6;}</style><div role=\"region\" aria-label=\"Skip to main content\"><a class=\"skipToContent_fXgn\" href=\"#__docusaurus_skipToContent_fallback\">Skip to main content</a></div><div class=\"announcementBar_mb4j\" role=\"banner\"><div class=\"announcementBarPlaceholder_vyr4\"></div><div class=\"content_knG7 announcementBarContent_xLdY\"><strong>Our <a href=\"https://academy.langchain.com/courses/ambient-agents/?utm_medium=internal&utm_source=docs&utm_campaign=q2-2025_ambient-agents_co\" target=\"_blank\">Building Ambient Agents with LangGraph</a> course is now available on LangChain Academy!</strong></div><button type=\"button\" aria-label=\"Close\" class=\"clean-btn close closeButton_CVFx announcementBarClose_gvF7\"><svg viewBox=\"0 0 15 15\" width=\"14\" height=\"14\"><g stroke=\"currentColor\" stroke-width=\"3.1\"><path d=\"M.75.75l13.5 13.5M14.25.75L.75 14.25\"></path></g></svg></button></div><nav aria-label=\"Main\" class=\"navbar navbar--fixed-top\"><div class=\"navbar__inner\"><div class=\"navbar__items\"><button aria-label=\"Toggle navigation bar\" aria-expanded=\"false\" class=\"navbar__toggle clean-btn\" type=\"button\"><svg width=\"30\" height=\"30\" viewBox=\"0 0 30 30\" aria-hidden=\"true\"><path stroke=\"currentColor\" stroke-linecap=\"round\" stroke-miterlimit=\"10\" stroke-width=\"2\" d=\"M4 7h22M4 15h22M4 23h22\"></path></svg></button><a class=\"navbar__brand\" href=\"/\"><div class=\"navbar__logo\"><img src=\"/img/langsmith-logo-black.svg\" alt=\"🦜️🛠️ LangSmith\" class=\"themedComponent__dKv themedComponent--light_rzkv\"><img src=\"/img/langsmith-logo-white.svg\" alt=\"🦜️🛠️ LangSmith\" class=\"themedComponent__dKv themedComponent--dark_mMAk\"></div></a><div class=\"navbar__item dropdown dropdown--hoverable\"><a href=\"#\" aria-haspopup=\"true\" aria-expanded=\"false\" role=\"button\" class=\"navbar__link\">API Reference</a><ul class=\"dropdown__menu\"><li><a href=\"https://api.smith.langchain.com/redoc\" target=\"_blank\" rel=\"noopener noreferrer\" class=\"dropdown__link\">REST<svg width=\"12\" height=\"12\" aria-hidden=\"true\" viewBox=\"0 0 24 24\" class=\"iconExternalLink_nPIU\"><path fill=\"currentColor\" d=\"M21 13v10h-21v-19h12v2h-10v15h17v-8h2zm3-12h-10.988l4.035 4-6.977 7.07 2.828 2.828 6.977-7.07 4.125 4.172v-11z\"></path></svg></a></li><li><a href=\"https://docs.smith.langchain.com/reference/python\" target=\"_blank\" rel=\"noopener noreferrer\" class=\"dropdown__link\">Python</a></li><li><a href=\"https://docs.smith.langchain.com/reference/js\" target=\"_blank\" rel=\"noopener noreferrer\" class=\"dropdown__link\">JS/TS</a></li></ul></div></div><div class=\"navbar__items navbar__items--right\"><div class=\"navbarSearchContainer_Bca1\"><button type=\"button\" class=\"DocSearch DocSearch-Button\" aria-label=\"Search (Command+K)\"><span class=\"DocSearch-Button-Container\"><svg width=\"20\" height=\"20\" class=\"DocSearch-Search-Icon\" viewBox=\"0 0 20 20\" aria-hidden=\"true\"><path d=\"M14.386 14.386l4.0877 4.0877-4.0877-4.0877c-2.9418 2.9419-7.7115 2.9419-10.6533 0-2.9419-2.9418-2.9419-7.7115 0-10.6533 2.9418-2.9419 7.7115-2.9419 10.6533 0 2.9419 2.9418 2.9419 7.7115 0 10.6533z\" stroke=\"currentColor\" fill=\"none\" fill-rule=\"evenodd\" stroke-linecap=\"round\" stroke-linejoin=\"round\"></path></svg><span class=\"DocSearch-Button-Placeholder\">Search</span></span><span class=\"DocSearch-Button-Keys\"></span></button></div><div class=\"navbar__item dropdown dropdown--hoverable\"><div aria-haspopup=\"true\" class=\"navbar__link\">Region</div><ul class=\"dropdown__menu regions-dropdown\"><li role=\"menuitem\" style=\"color:var(--ifm-color-primary)\">US</li><li role=\"menuitem\" style=\"color:gray\">EU</li></ul></div><a href=\"https://smith.langchain.com/\" target=\"_blank\" rel=\"noopener noreferrer\" class=\"navbar__item navbar__link\">Go to App<svg width=\"13.5\" height=\"13.5\" aria-hidden=\"true\" viewBox=\"0 0 24 24\" class=\"iconExternalLink_nPIU\"><path fill=\"currentColor\" d=\"M21 13v10h-21v-19h12v2h-10v15h17v-8h2zm3-12h-10.988l4.035 4-6.977 7.07 2.828 2.828 6.977-7.07 4.125 4.172v-11z\"></path></svg></a><div class=\"toggle_vylO colorModeToggle_DEke\"><button class=\"clean-btn toggleButton_gllP toggleButtonDisabled_aARS\" type=\"button\" disabled=\"\" title=\"Switch between dark and light mode (currently light mode)\" aria-label=\"Switch between dark and light mode (currently light mode)\" aria-live=\"polite\"><svg viewBox=\"0 0 24 24\" width=\"24\" height=\"24\" class=\"lightToggleIcon_pyhR\"><path fill=\"currentColor\" d=\"M12,9c1.65,0,3,1.35,3,3s-1.35,3-3,3s-3-1.35-3-3S10.35,9,12,9 M12,7c-2.76,0-5,2.24-5,5s2.24,5,5,5s5-2.24,5-5 S14.76,7,12,7L12,7z M2,13l2,0c0.55,0,1-0.45,1-1s-0.45-1-1-1l-2,0c-0.55,0-1,0.45-1,1S1.45,13,2,13z M20,13l2,0c0.55,0,1-0.45,1-1 s-0.45-1-1-1l-2,0c-0.55,0-1,0.45-1,1S19.45,13,20,13z M11,2v2c0,0.55,0.45,1,1,1s1-0.45,1-1V2c0-0.55-0.45-1-1-1S11,1.45,11,2z M11,20v2c0,0.55,0.45,1,1,1s1-0.45,1-1v-2c0-0.55-0.45-1-1-1C11.45,19,11,19.45,11,20z M5.99,4.58c-0.39-0.39-1.03-0.39-1.41,0 c-0.39,0.39-0.39,1.03,0,1.41l1.06,1.06c0.39,0.39,1.03,0.39,1.41,0s0.39-1.03,0-1.41L5.99,4.58z M18.36,16.95 c-0.39-0.39-1.03-0.39-1.41,0c-0.39,0.39-0.39,1.03,0,1.41l1.06,1.06c0.39,0.39,1.03,0.39,1.41,0c0.39-0.39,0.39-1.03,0-1.41 L18.36,16.95z M19.42,5.99c0.39-0.39,0.39-1.03,0-1.41c-0.39-0.39-1.03-0.39-1.41,0l-1.06,1.06c-0.39,0.39-0.39,1.03,0,1.41 s1.03,0.39,1.41,0L19.42,5.99z M7.05,18.36c0.39-0.39,0.39-1.03,0-1.41c-0.39-0.39-1.03-0.39-1.41,0l-1.06,1.06 c-0.39,0.39-0.39,1.03,0,1.41s1.03,0.39,1.41,0L7.05,18.36z\"></path></svg><svg viewBox=\"0 0 24 24\" width=\"24\" height=\"24\" class=\"darkToggleIcon_wfgR\"><path fill=\"currentColor\" d=\"M9.37,5.51C9.19,6.15,9.1,6.82,9.1,7.5c0,4.08,3.32,7.4,7.4,7.4c0.68,0,1.35-0.09,1.99-0.27C17.45,17.19,14.93,19,12,19 c-3.86,0-7-3.14-7-7C5,9.07,6.81,6.55,9.37,5.51z M12,3c-4.97,0-9,4.03-9,9s4.03,9,9,9s9-4.03,9-9c0-0.46-0.04-0.92-0.1-1.36 c-0.98,1.37-2.58,2.26-4.4,2.26c-2.98,0-5.4-2.42-5.4-5.4c0-1.81,0.89-3.42,2.26-4.4C12.92,3.04,12.46,3,12,3L12,3z\"></path></svg></button></div></div></div><div role=\"presentation\" class=\"navbar-sidebar__backdrop\"></div></nav><div id=\"__docusaurus_skipToContent_fallback\" class=\"main-wrapper mainWrapper_z2l0\"><div class=\"docsWrapper_hBAB\"><button aria-label=\"Scroll back to top\" class=\"clean-btn theme-back-to-top-button backToTopButton_sjWU\" type=\"button\"></button><div class=\"docRoot_UBD9\"><aside class=\"theme-doc-sidebar-container docSidebarContainer_YfHR\"><div class=\"sidebarViewport_aRkj\"><div class=\"sidebar_njMd\"><nav aria-label=\"Docs sidebar\" class=\"menu thin-scrollbar menu_SIkG menuWithAnnouncementBar_GW3s\"><ul class=\"theme-doc-sidebar-menu menu__list\"><li class=\"theme-doc-sidebar-item-link theme-doc-sidebar-item-link-level-1 menu__list-item\"><a class=\"menu__link menu__link--active\" aria-current=\"page\" href=\"/\">Get Started</a></li><li class=\"theme-doc-sidebar-item-category theme-doc-sidebar-item-category-level-1 menu__list-item menu__list-item--collapsed no-highlight\"><div class=\"menu__list-item-collapsible\"><a class=\"menu__link menu__link--sublist\" href=\"/observability\">Observability</a><button aria-label=\"Expand sidebar category &#x27;Observability&#x27;\" aria-expanded=\"false\" type=\"button\" class=\"clean-btn menu__caret\"></button></div></li><li class=\"theme-doc-sidebar-item-category theme-doc-sidebar-item-category-level-1 menu__list-item menu__list-item--collapsed no-highlight\"><div class=\"menu__list-item-collapsible\"><a class=\"menu__link menu__link--sublist\" href=\"/evaluation\">Evaluation</a><button aria-label=\"Expand sidebar category &#x27;Evaluation&#x27;\" aria-expanded=\"false\" type=\"button\" class=\"clean-btn menu__caret\"></button></div></li><li class=\"theme-doc-sidebar-item-category theme-doc-sidebar-item-category-level-1 menu__list-item menu__list-item--collapsed no-highlight\"><div class=\"menu__list-item-collapsible\"><a class=\"menu__link menu__link--sublist\" href=\"/prompt_engineering/quickstarts/quickstart_ui\">Prompt Engineering</a><button aria-label=\"Expand sidebar category &#x27;Prompt Engineering&#x27;\" aria-expanded=\"false\" type=\"button\" class=\"clean-btn menu__caret\"></button></div></li><li class=\"theme-doc-sidebar-item-link theme-doc-sidebar-item-link-level-1 menu__list-item\"><a class=\"menu__link\" href=\"/langgraph_cloud\">Deployment (LangGraph Platform)</a></li><li class=\"theme-doc-sidebar-item-link theme-doc-sidebar-item-link-level-1\"><hr class=\"dropdown-separator\" style=\"margin-top: 0.5rem; margin-bottom: 0.5rem\"></li><li class=\"theme-doc-sidebar-item-category theme-doc-sidebar-item-category-level-1 menu__list-item menu__list-item--collapsed\"><div class=\"menu__list-item-collapsible\"><a class=\"menu__link menu__link--sublist\" href=\"/administration/tutorials\">Administration</a><button aria-label=\"Expand sidebar category &#x27;Administration&#x27;\" aria-expanded=\"false\" type=\"button\" class=\"clean-btn menu__caret\"></button></div></li><li class=\"theme-doc-sidebar-item-category theme-doc-sidebar-item-category-level-1 menu__list-item menu__list-item--collapsed\"><div class=\"menu__list-item-collapsible\"><a class=\"menu__link menu__link--sublist\" href=\"/self_hosting\">Self-hosting</a><button aria-label=\"Expand sidebar category &#x27;Self-hosting&#x27;\" aria-expanded=\"false\" type=\"button\" class=\"clean-btn menu__caret\"></button></div></li><li class=\"theme-doc-sidebar-item-category theme-doc-sidebar-item-category-level-1 menu__list-item menu__list-item--collapsed\"><div class=\"menu__list-item-collapsible\"><a class=\"menu__link menu__link--sublist\" href=\"/pricing\">Pricing</a><button aria-label=\"Expand sidebar category &#x27;Pricing&#x27;\" aria-expanded=\"false\" type=\"button\" class=\"clean-btn menu__caret\"></button></div></li><li class=\"theme-doc-sidebar-item-link theme-doc-sidebar-item-link-level-1\"><hr class=\"dropdown-separator\" style=\"margin-top: 0.5rem; margin-bottom: 0.5rem\"></li><li class=\"theme-doc-sidebar-item-category theme-doc-sidebar-item-category-level-1 menu__list-item\"><div class=\"menu__list-item-collapsible\"><a class=\"menu__link\" href=\"/reference\">Reference</a></div><ul style=\"display:block;overflow:visible;height:auto\" class=\"menu__list\"><li class=\"theme-doc-sidebar-item-link theme-doc-sidebar-item-link-level-2 menu__list-item hidden\"><a class=\"menu__link\" tabindex=\"0\" href=\"/reference/cloud_architecture_and_scalability\">Cloud architecture and scalability</a></li><li class=\"theme-doc-sidebar-item-category theme-doc-sidebar-item-category-level-2 menu__list-item hidden\"><div class=\"menu__list-item-collapsible\"><a class=\"menu__link menu__link--sublist menu__link--sublist-caret\" role=\"button\" aria-expanded=\"true\" tabindex=\"0\" href=\"/reference/authentication_authorization/authentication_methods\">Authz and Authn</a></div><ul style=\"display:block;overflow:visible;height:auto\" class=\"menu__list\"><li class=\"theme-doc-sidebar-item-link theme-doc-sidebar-item-link-level-3 menu__list-item\"><a class=\"menu__link\" tabindex=\"0\" href=\"/reference/authentication_authorization/authentication_methods\">Authentication methods</a></li></ul></li><li class=\"theme-doc-sidebar-item-category theme-doc-sidebar-item-category-level-2 menu__list-item menu__list-item--collapsed hidden\"><div class=\"menu__list-item-collapsible\"><a class=\"menu__link menu__link--sublist menu__link--sublist-caret\" role=\"button\" aria-expanded=\"false\" tabindex=\"0\" href=\"/reference/data_formats/example_data_format\">data_formats</a></div></li><li class=\"theme-doc-sidebar-item-category theme-doc-sidebar-item-category-level-2 menu__list-item hidden\"><div class=\"menu__list-item-collapsible\"><a class=\"menu__link menu__link--sublist menu__link--sublist-caret\" role=\"button\" aria-expanded=\"true\" tabindex=\"0\" href=\"/reference/evaluation/dataset_transformations\">Evaluation</a></div><ul style=\"display:block;overflow:visible;height:auto\" class=\"menu__list\"><li class=\"theme-doc-sidebar-item-link theme-doc-sidebar-item-link-level-3 menu__list-item\"><a class=\"menu__link\" tabindex=\"0\" href=\"/reference/evaluation/dataset_transformations\">Dataset transformations</a></li></ul></li><li class=\"theme-doc-sidebar-item-link theme-doc-sidebar-item-link-level-2 menu__list-item hidden\"><a class=\"menu__link\" tabindex=\"0\" href=\"/reference/regions_faq\">Regions FAQ</a></li><li class=\"theme-doc-sidebar-item-category theme-doc-sidebar-item-category-level-2 menu__list-item menu__list-item--collapsed hidden\"><div class=\"menu__list-item-collapsible\"><a class=\"menu__link menu__link--sublist menu__link--sublist-caret\" role=\"button\" aria-expanded=\"false\" tabindex=\"0\" href=\"/reference/sdk_reference/langchain_evaluators\">sdk_reference</a></div></li></ul></li></ul></nav></div></div></aside><main class=\"docMainContainer_TBSr\"><div class=\"container padding-top--md padding-bottom--lg\"><div class=\"row\"><div class=\"col docItemCol_VOVn\"><div class=\"docItemContainer_Djhp\"><article><nav class=\"theme-doc-breadcrumbs breadcrumbsContainer_Z_bl\" aria-label=\"Breadcrumbs\"><ul class=\"breadcrumbs\" itemscope=\"\" itemtype=\"https://schema.org/BreadcrumbList\"><li class=\"breadcrumbs__item\"><a aria-label=\"Home page\" class=\"breadcrumbs__link\" href=\"/\"><svg viewBox=\"0 0 24 24\" class=\"breadcrumbHomeIcon_YNFT\"><path d=\"M10 19v-5h4v5c0 .55.45 1 1 1h3c.55 0 1-.45 1-1v-7h1.7c.46 0 .68-.57.33-.87L12.67 3.6c-.38-.34-.96-.34-1.34 0l-8.36 7.53c-.34.3-.13.87.33.87H5v7c0 .55.45 1 1 1h3c.55 0 1-.45 1-1z\" fill=\"currentColor\"></path></svg></a></li><li itemscope=\"\" itemprop=\"itemListElement\" itemtype=\"https://schema.org/ListItem\" class=\"breadcrumbs__item breadcrumbs__item--active\"><span class=\"breadcrumbs__link\" itemprop=\"name\">Get Started</span><meta itemprop=\"position\" content=\"1\"></li></ul></nav><div class=\"tocCollapsible_ETCw theme-doc-toc-mobile tocMobile_ITEo\"><button type=\"button\" class=\"clean-btn tocCollapsibleButton_TO0P\">On this page</button></div><div class=\"theme-doc-markdown markdown\"><header><h1>Get started with LangSmith</h1></header>\n",
      "<p><strong>LangSmith</strong> is a platform for building production-grade LLM applications.\n",
      "It allows you to closely monitor and evaluate your application, so you can ship quickly and with confidence.</p>\n",
      "<div style=\"display:flex;align-items:center;gap:20px;margin:20px 0\"><div style=\"max-width:60%\"><p><img decoding=\"async\" loading=\"lazy\" src=\"/assets/images/ls-diagram-5be7dd68b135f573a7b0e163692e6800.png\" width=\"1740\" height=\"1438\" class=\"img_ev3q\"></p></div><div style=\"flex:1\"><h3 style=\"color:#1a73e8;margin-top:0\"><a href=\"/observability\">Observability</a></h3><p>Analyze traces in LangSmith and configure metrics, dashboards, alerts based on these.</p><h3 style=\"color:#1a73e8;margin-top:0\"><a href=\"/evaluation\">Evals</a></h3><p>Evaluate your application over production traffic — score application performance and get human feedback on your data.</p><h3 style=\"color:#1a73e8;margin-top:0\"><a href=\"/prompt_engineering/quickstarts/quickstart_ui\">Prompt Engineering</a></h3><p>Iterate on prompts, with automatic version control and collaboration features.</p></div></div>\n",
      "<div class=\"theme-admonition theme-admonition-tip admonition_xJq3 alert alert--success\"><div class=\"admonitionHeading_Gvgb\"><span class=\"admonitionIcon_Rf37\"><svg viewBox=\"0 0 12 16\"><path fill-rule=\"evenodd\" d=\"M6.5 0C3.48 0 1 2.19 1 5c0 .92.55 2.25 1 3 1.34 2.25 1.78 2.78 2 4v1h5v-1c.22-1.22.66-1.75 2-4 .45-.75 1-2.08 1-3 0-2.81-2.48-5-5.5-5zm3.64 7.48c-.25.44-.47.8-.67 1.11-.86 1.41-1.25 2.06-1.45 3.23-.02.05-.02.11-.02.17H5c0-.06 0-.13-.02-.17-.2-1.17-.59-1.83-1.45-3.23-.2-.31-.42-.67-.67-1.11C2.44 6.78 2 5.65 2 5c0-2.2 2.02-4 4.5-4 1.22 0 2.36.42 3.22 1.19C10.55 2.94 11 3.94 11 5c0 .66-.44 1.78-.86 2.48zM4 14h5c-.23 1.14-1.3 2-2.5 2s-2.27-.86-2.5-2z\"></path></svg></span>LangSmith + LangChain OSS</div><div class=\"admonitionContent_BuS1\"><p>LangSmith is framework-agnostic — it can be used with or without LangChain&#x27;s open source frameworks <a href=\"https://python.langchain.com\" target=\"_blank\" rel=\"noopener noreferrer\"><code>langchain</code></a> and <a href=\"https://langchain-ai.github.io/langgraph/\" target=\"_blank\" rel=\"noopener noreferrer\"><code>langgraph</code></a>.</p><p>If you are using either of these, you can enable LangSmith tracing with a single environment variable.\n",
      "For more see the how-to guide for <a href=\"/observability/how_to_guides/trace_with_langchain\">setting up LangSmith with LangChain</a> or <a href=\"https://docs.smith.langchain.com/observability/how_to_guides/tracing/trace_with_langgraph\" target=\"_blank\" rel=\"noopener noreferrer\">setting up LangSmith with LangGraph</a>.</p></div></div>\n",
      "<h2 class=\"anchor anchorWithStickyNavbar_LWe7\" id=\"observability\">Observability<a href=\"#observability\" class=\"hash-link\" aria-label=\"Direct link to Observability\" title=\"Direct link to Observability\">​</a></h2>\n",
      "<p>Observability is important for any software application, but especially so for LLM applications. LLMs are non-deterministic by nature, meaning they can produce unexpected results. This makes them trickier than normal to debug.</p>\n",
      "<p>This is where LangSmith can help! LangSmith has LLM-native observability, allowing you to get meaningful insights from your application. LangSmith’s observability features have you covered throughout all stages of application development - from prototyping, to beta testing, to production.</p>\n",
      "<ul>\n",
      "<li>Get started by <a href=\"/observability\">adding tracing</a> to your application.</li>\n",
      "<li><a href=\"/observability/how_to_guides/dashboards\">Create dashboards</a> to view key metrics like RPS, error rates and costs.</li>\n",
      "</ul>\n",
      "<h2 class=\"anchor anchorWithStickyNavbar_LWe7\" id=\"evals\">Evals<a href=\"#evals\" class=\"hash-link\" aria-label=\"Direct link to Evals\" title=\"Direct link to Evals\">​</a></h2>\n",
      "<p>The quality and development speed of AI applications depends on high-quality evaluation datasets and metrics to test and optimize your applications on. The LangSmith SDK and UI make building and running high-quality evaluations easy.</p>\n",
      "<ul>\n",
      "<li>Get started by <a href=\"/evaluation\">creating your first evaluation</a>.</li>\n",
      "<li>Quickly assess the performance of your application using our <a href=\"https://docs.smith.langchain.com/evaluation/how_to_guides/prebuilt_evaluators\" target=\"_blank\" rel=\"noopener noreferrer\">off-the-shelf evaluators</a> as a starting point.</li>\n",
      "<li><a href=\"/evaluation/how_to_guides#analyzing-experiment-results\">Analyze results</a> of evaluations in the LangSmith UI and <a href=\"https://docs.smith.langchain.com/evaluation/how_to_guides/compare_experiment_results\" target=\"_blank\" rel=\"noopener noreferrer\">compare results</a> over time.</li>\n",
      "<li>Easily collect <a href=\"/evaluation/how_to_guides#annotation-queues-and-human-feedback\">human feedback</a> on your data to improve your application.</li>\n",
      "</ul>\n",
      "<h2 class=\"anchor anchorWithStickyNavbar_LWe7\" id=\"prompt-engineering\">Prompt Engineering<a href=\"#prompt-engineering\" class=\"hash-link\" aria-label=\"Direct link to Prompt Engineering\" title=\"Direct link to Prompt Engineering\">​</a></h2>\n",
      "<p>While traditional software applications are built by writing code, AI applications involve writing prompts to instruct the LLM on what to do. LangSmith provides a set of tools designed to enable and facilitate prompt engineering to help you find the perfect prompt for your application.</p>\n",
      "<ul>\n",
      "<li>Get started by <a href=\"/prompt_engineering/how_to_guides/create_a_prompt\">creating your first prompt</a>.</li>\n",
      "<li>Iterate on models and prompts using the <a href=\"/prompt_engineering/how_to_guides#playground\">Playground</a>.</li>\n",
      "<li><a href=\"https://docs.smith.langchain.com/prompt_engineering/how_to_guides/prompts/manage_prompts_programatically\" target=\"_blank\" rel=\"noopener noreferrer\">Manage prompts programmatically</a> in your application.</li>\n",
      "</ul></div><div style=\"display:flex;flex-direction:column\"><hr><h4>Was this page helpful?</h4><div style=\"display:flex;gap:5px\"><div style=\"display:flex;align-items:center;padding-top:10px;padding-bottom:10px;padding-left:22px;padding-right:22px;border:1px solid var(--joy-palette-background-level2);border-radius:6px;gap:10px;cursor:pointer;font-size:16px;font-weight:600\" role=\"button\" tabindex=\"0\"><svg xmlns=\"http://www.w3.org/2000/svg\" fill=\"none\" viewBox=\"0 0 24 24\" stroke-width=\"1.5\" stroke=\"#166534\" style=\"width:24px;height:24px\"><path stroke-linecap=\"round\" stroke-linejoin=\"round\" d=\"M6.633 10.25c.806 0 1.533-.446 2.031-1.08a9.041 9.041 0 0 1 2.861-2.4c.723-.384 1.35-.956 1.653-1.715a4.498 4.498 0 0 0 .322-1.672V2.75a.75.75 0 0 1 .75-.75 2.25 2.25 0 0 1 2.25 2.25c0 1.152-.26 2.243-.723 3.218-.266.558.107 1.282.725 1.282m0 0h3.126c1.026 0 1.945.694 2.054 1.715.045.422.068.85.068 1.285a11.95 11.95 0 0 1-2.649 7.521c-.388.482-.987.729-1.605.729H13.48c-.483 0-.964-.078-1.423-.23l-3.114-1.04a4.501 4.501 0 0 0-1.423-.23H5.904m10.598-9.75H14.25M5.904 18.5c.083.205.173.405.27.602.197.4-.078.898-.523.898h-.908c-.889 0-1.713-.518-1.972-1.368a12 12 0 0 1-.521-3.507c0-1.553.295-3.036.831-4.398C3.387 9.953 4.167 9.5 5 9.5h1.053c.472 0 .745.556.5.96a8.958 8.958 0 0 0-1.302 4.665c0 1.194.232 2.333.654 3.375Z\"></path></svg></div><div style=\"display:flex;align-items:center;padding-top:10px;padding-bottom:10px;padding-left:22px;padding-right:22px;border:1px solid var(--joy-palette-background-level2);border-radius:6px;gap:10px;cursor:pointer;font-size:16px;font-weight:600\" role=\"button\" tabindex=\"0\"><svg xmlns=\"http://www.w3.org/2000/svg\" fill=\"none\" viewBox=\"0 0 24 24\" stroke-width=\"1.5\" stroke=\"#991b1b\" style=\"width:24px;height:24px\"><path stroke-linecap=\"round\" stroke-linejoin=\"round\" d=\"M7.498 15.25H4.372c-1.026 0-1.945-.694-2.054-1.715a12.137 12.137 0 0 1-.068-1.285c0-2.848.992-5.464 2.649-7.521C5.287 4.247 5.886 4 6.504 4h4.016a4.5 4.5 0 0 1 1.423.23l3.114 1.04a4.5 4.5 0 0 0 1.423.23h1.294M7.498 15.25c.618 0 .991.724.725 1.282A7.471 7.471 0 0 0 7.5 19.75 2.25 2.25 0 0 0 9.75 22a.75.75 0 0 0 .75-.75v-.633c0-.573.11-1.14.322-1.672.304-.76.93-1.33 1.653-1.715a9.04 9.04 0 0 0 2.86-2.4c.498-.634 1.226-1.08 2.032-1.08h.384m-10.253 1.5H9.7m8.075-9.75c.01.05.027.1.05.148.593 1.2.925 2.55.925 3.977 0 1.487-.36 2.89-.999 4.125m.023-8.25c-.076-.365.183-.75.575-.75h.908c.889 0 1.713.518 1.972 1.368.339 1.11.521 2.287.521 3.507 0 1.553-.295 3.036-.831 4.398-.306.774-1.086 1.227-1.918 1.227h-1.053c-.472 0-.745-.556-.5-.96a8.95 8.95 0 0 0 .303-.54\"></path></svg></div></div><br><h4>You can leave detailed feedback<!-- --> <a target=\"_blank\" href=\"https://github.com/langchain-ai/langsmith-docs/issues/new?title=DOC%3A+%3CPlease+write+a+comprehensive+title+after+the+%27DOC%3A+%27+prefix%3E\" rel=\"noreferrer\">on GitHub</a>.</h4></div></article><nav class=\"pagination-nav docusaurus-mt-lg\" aria-label=\"Docs pages\"><a class=\"pagination-nav__link pagination-nav__link--next\" href=\"/observability\"><div class=\"pagination-nav__sublabel\">Next</div><div class=\"pagination-nav__label\">Quick Start</div></a></nav></div></div><div class=\"col col--3\"><div class=\"tableOfContents_bqdL thin-scrollbar theme-doc-toc-desktop\"><ul class=\"table-of-contents table-of-contents__left-border\"><li><a href=\"#observability\" class=\"table-of-contents__link toc-highlight\">Observability</a></li><li><a href=\"#evals\" class=\"table-of-contents__link toc-highlight\">Evals</a></li><li><a href=\"#prompt-engineering\" class=\"table-of-contents__link toc-highlight\">Prompt Engineering</a></li></ul></div></div></div></div></main></div></div></div><footer class=\"footer\"><div class=\"container container-fluid\"><div class=\"row footer__links\"><div class=\"col footer__col\"><div class=\"footer__title\">Community</div><ul class=\"footer__items clean-list\"><li class=\"footer__item\"><a href=\"https://forum.langchain.com/\" target=\"_blank\" rel=\"noopener noreferrer\" class=\"footer__link-item\">LangChain Forum<svg width=\"13.5\" height=\"13.5\" aria-hidden=\"true\" viewBox=\"0 0 24 24\" class=\"iconExternalLink_nPIU\"><path fill=\"currentColor\" d=\"M21 13v10h-21v-19h12v2h-10v15h17v-8h2zm3-12h-10.988l4.035 4-6.977 7.07 2.828 2.828 6.977-7.07 4.125 4.172v-11z\"></path></svg></a></li><li class=\"footer__item\"><a href=\"https://twitter.com/LangChainAI\" target=\"_blank\" rel=\"noopener noreferrer\" class=\"footer__link-item\">Twitter<svg width=\"13.5\" height=\"13.5\" aria-hidden=\"true\" viewBox=\"0 0 24 24\" class=\"iconExternalLink_nPIU\"><path fill=\"currentColor\" d=\"M21 13v10h-21v-19h12v2h-10v15h17v-8h2zm3-12h-10.988l4.035 4-6.977 7.07 2.828 2.828 6.977-7.07 4.125 4.172v-11z\"></path></svg></a></li></ul></div><div class=\"col footer__col\"><div class=\"footer__title\">GitHub</div><ul class=\"footer__items clean-list\"><li class=\"footer__item\"><a href=\"https://github.com/langchain-ai/langsmith-docs\" target=\"_blank\" rel=\"noopener noreferrer\" class=\"footer__link-item\">Docs Code<svg width=\"13.5\" height=\"13.5\" aria-hidden=\"true\" viewBox=\"0 0 24 24\" class=\"iconExternalLink_nPIU\"><path fill=\"currentColor\" d=\"M21 13v10h-21v-19h12v2h-10v15h17v-8h2zm3-12h-10.988l4.035 4-6.977 7.07 2.828 2.828 6.977-7.07 4.125 4.172v-11z\"></path></svg></a></li><li class=\"footer__item\"><a href=\"https://github.com/langchain-ai/langsmith-sdk\" target=\"_blank\" rel=\"noopener noreferrer\" class=\"footer__link-item\">LangSmith SDK<svg width=\"13.5\" height=\"13.5\" aria-hidden=\"true\" viewBox=\"0 0 24 24\" class=\"iconExternalLink_nPIU\"><path fill=\"currentColor\" d=\"M21 13v10h-21v-19h12v2h-10v15h17v-8h2zm3-12h-10.988l4.035 4-6.977 7.07 2.828 2.828 6.977-7.07 4.125 4.172v-11z\"></path></svg></a></li><li class=\"footer__item\"><a href=\"https://github.com/langchain-ai/langchain\" target=\"_blank\" rel=\"noopener noreferrer\" class=\"footer__link-item\">Python<svg width=\"13.5\" height=\"13.5\" aria-hidden=\"true\" viewBox=\"0 0 24 24\" class=\"iconExternalLink_nPIU\"><path fill=\"currentColor\" d=\"M21 13v10h-21v-19h12v2h-10v15h17v-8h2zm3-12h-10.988l4.035 4-6.977 7.07 2.828 2.828 6.977-7.07 4.125 4.172v-11z\"></path></svg></a></li><li class=\"footer__item\"><a href=\"https://github.com/langchain-ai/langchainjs\" target=\"_blank\" rel=\"noopener noreferrer\" class=\"footer__link-item\">JS/TS<svg width=\"13.5\" height=\"13.5\" aria-hidden=\"true\" viewBox=\"0 0 24 24\" class=\"iconExternalLink_nPIU\"><path fill=\"currentColor\" d=\"M21 13v10h-21v-19h12v2h-10v15h17v-8h2zm3-12h-10.988l4.035 4-6.977 7.07 2.828 2.828 6.977-7.07 4.125 4.172v-11z\"></path></svg></a></li></ul></div><div class=\"col footer__col\"><div class=\"footer__title\">More</div><ul class=\"footer__items clean-list\"><li class=\"footer__item\"><a href=\"https://langchain.com\" target=\"_blank\" rel=\"noopener noreferrer\" class=\"footer__link-item\">Homepage<svg width=\"13.5\" height=\"13.5\" aria-hidden=\"true\" viewBox=\"0 0 24 24\" class=\"iconExternalLink_nPIU\"><path fill=\"currentColor\" d=\"M21 13v10h-21v-19h12v2h-10v15h17v-8h2zm3-12h-10.988l4.035 4-6.977 7.07 2.828 2.828 6.977-7.07 4.125 4.172v-11z\"></path></svg></a></li><li class=\"footer__item\"><a href=\"https://blog.langchain.dev\" target=\"_blank\" rel=\"noopener noreferrer\" class=\"footer__link-item\">Blog<svg width=\"13.5\" height=\"13.5\" aria-hidden=\"true\" viewBox=\"0 0 24 24\" class=\"iconExternalLink_nPIU\"><path fill=\"currentColor\" d=\"M21 13v10h-21v-19h12v2h-10v15h17v-8h2zm3-12h-10.988l4.035 4-6.977 7.07 2.828 2.828 6.977-7.07 4.125 4.172v-11z\"></path></svg></a></li><li class=\"footer__item\"><a href=\"https://python.langchain.com/en/latest/\" target=\"_blank\" rel=\"noopener noreferrer\" class=\"footer__link-item\" position=\"left\">LangChain Python Docs<svg width=\"13.5\" height=\"13.5\" aria-hidden=\"true\" viewBox=\"0 0 24 24\" class=\"iconExternalLink_nPIU\"><path fill=\"currentColor\" d=\"M21 13v10h-21v-19h12v2h-10v15h17v-8h2zm3-12h-10.988l4.035 4-6.977 7.07 2.828 2.828 6.977-7.07 4.125 4.172v-11z\"></path></svg></a></li><li class=\"footer__item\"><a href=\"https://js.langchain.com/docs/\" target=\"_blank\" rel=\"noopener noreferrer\" class=\"footer__link-item\" position=\"left\">LangChain JS/TS Docs<svg width=\"13.5\" height=\"13.5\" aria-hidden=\"true\" viewBox=\"0 0 24 24\" class=\"iconExternalLink_nPIU\"><path fill=\"currentColor\" d=\"M21 13v10h-21v-19h12v2h-10v15h17v-8h2zm3-12h-10.988l4.035 4-6.977 7.07 2.828 2.828 6.977-7.07 4.125 4.172v-11z\"></path></svg></a></li></ul></div></div><div class=\"footer__bottom text--center\"><div class=\"footer__copyright\">Copyright © 2025 LangChain, Inc.</div></div></div></footer></div>\n",
      "</body>\n",
      "</html>' metadata={'source': 'https://docs.smith.langchain.com', 'content_type': 'text/html; charset=utf-8', 'title': 'Get started with LangSmith | 🦜️🛠️ LangSmith', 'description': 'LangSmith is a platform for building production-grade LLM applications.', 'language': 'en'}\n"
     ]
    }
   ],
   "source": [
    "print(raw_documents[0])"
   ]
  },
  {
   "cell_type": "markdown",
   "id": "8e35f884-bb93-427d-a0ad-3858c449a1ea",
   "metadata": {},
   "source": [
    "Next, we'll define a factory function for our chain. It will take a retriever as an argument, allowing us to easily create different chain versions."
   ]
  },
  {
   "cell_type": "code",
   "execution_count": 12,
   "id": "e2f266e9-e4de-42ad-b41e-99ace4dc5131",
   "metadata": {
    "ExecuteTime": {
     "end_time": "2023-09-20T04:50:47.264432Z",
     "start_time": "2023-09-20T04:50:47.263828Z"
    }
   },
   "outputs": [],
   "source": [
    "from datetime import datetime # Import datetime to include the current time in the prompt.\n",
    "from operator import itemgetter # Import itemgetter for convenient data routing.\n",
    "from langchain_core.output_parsers import StrOutputParser # Import the string output parser.\n",
    "from langchain_core.prompts import ChatPromptTemplate # Import the chat prompt template class.\n",
    "from langchain_openai import ChatOpenAI # Import the OpenAI chat model class.\n",
    "\n",
    "\n",
    "# Define a factory function that creates a RAG chain from a given retriever.\n",
    "def create_chain(retriever):\n",
    "    prompt = ChatPromptTemplate.from_messages(\n",
    "        [\n",
    "            (\n",
    "                \"system\",\n",
    "                \"You are a helpful documentation Q&A assistant, trained to answer\"\n",
    "                \" questions from LangSmith's documentation.\"\n",
    "                \" LangChain is a framework for building applications using large language models.\"\n",
    "                \"\\nThe current time is {time}.\\n\\nRelevant documents will be retrieved in the following messages.\",\n",
    "            ),\n",
    "            (\"system\", \"{context}\"),\n",
    "            (\"human\", \"{question}\"),\n",
    "        ]\n",
    "    ).partial(time=str(datetime.now()))\n",
    "\n",
    "    model = ChatOpenAI(model=\"gpt-3.5-turbo-16k\", temperature=0)\n",
    "    response_generator = prompt | model | StrOutputParser()\n",
    "    # Define the final chain using LangChain Expression Language (LCEL).\n",
    "    chain = (\n",
    "        {\n",
    "            \"context\": itemgetter(\"question\")\n",
    "            | retriever\n",
    "            | (lambda docs: \"\\n\".join([doc.page_content for doc in docs])),\n",
    "            \"question\": itemgetter(\"question\"),\n",
    "        }\n",
    "        | response_generator\n",
    "    )\n",
    "    return chain"
   ]
  },
  {
   "cell_type": "markdown",
   "id": "b9d02a25-2863-4c5c-81e8-00887247516d",
   "metadata": {},
   "source": [
    "Now we can create our two chains to compare. `chain_1` will use larger document chunks, while `chain_2` will use smaller chunks."
   ]
  },
  {
   "cell_type": "code",
   "execution_count": 13,
   "id": "1028d963-d84b-4759-a5ca-087b27065485",
   "metadata": {
    "ExecuteTime": {
     "start_time": "2023-09-20T04:50:47.265315Z"
    },
    "tags": []
   },
   "outputs": [],
   "source": [
    "# Define the text splitter for our first chain (large chunks).\n",
    "text_splitter = TokenTextSplitter(\n",
    "    model_name=\"gpt-3.5-turbo\",\n",
    "    chunk_size=2000,\n",
    "    chunk_overlap=200,\n",
    ")\n",
    "# Create the first retriever.\n",
    "retriever = create_retriever(transformed, text_splitter)\n",
    "\n",
    "# Create the first chain.\n",
    "chain_1 = create_chain(retriever)"
   ]
  },
  {
   "cell_type": "code",
   "execution_count": 14,
   "id": "5765c938-c5f6-4ee4-be6b-90b7b341b683",
   "metadata": {
    "ExecuteTime": {
     "start_time": "2023-09-20T04:50:47.266475Z"
    },
    "tags": []
   },
   "outputs": [],
   "source": [
    "# Define the text splitter for our second chain (small chunks).\n",
    "text_splitter_2 = TokenTextSplitter(\n",
    "    model_name=\"gpt-3.5-turbo\",\n",
    "    chunk_size=500,\n",
    "    chunk_overlap=50,\n",
    ")\n",
    "# Create the second retriever.\n",
    "retriever_2 = create_retriever(transformed, text_splitter_2)\n",
    "\n",
    "# Create the second chain.\n",
    "chain_2 = create_chain(retriever_2)"
   ]
  },
  {
   "cell_type": "markdown",
   "id": "f3dddd61",
   "metadata": {},
   "source": [
    "#### c. Evaluate the Chains with Absolute Grading\n",
    "\n",
    "Now we'll run our initial benchmark. We will run both `chain_1` and `chain_2` on our dataset and use a standard correctness evaluator (`cot_qa`) to score each response. This will give us an initial impression of their performance."
   ]
  },
  {
   "cell_type": "code",
   "execution_count": 15,
   "id": "62de3aea-638e-4add-998a-22eb21f6feaf",
   "metadata": {
    "ExecuteTime": {
     "start_time": "2023-09-20T04:50:47.267369Z"
    },
    "tags": []
   },
   "outputs": [],
   "source": [
    "from langchain.smith import RunEvalConfig # Import the evaluation configuration class.\n",
    "\n",
    "eval_config = RunEvalConfig(\n",
    "    # We will use the chain-of-thought Q&A correctness evaluator for a more robust grade.\n",
    "    evaluators=[\"cot_qa\"],\n",
    ")"
   ]
  },
  {
   "cell_type": "code",
   "execution_count": 16,
   "id": "1ae51a83-6ae1-4fa6-a9d8-4e27bf03047f",
   "metadata": {
    "ExecuteTime": {
     "start_time": "2023-09-20T04:50:47.268056Z"
    },
    "tags": []
   },
   "outputs": [
    {
     "name": "stdout",
     "output_type": "stream",
     "text": [
      "View the evaluation results for project 'ample-dress-94' at:\n",
      "https://smith.langchain.com/o/0212d326-bd9d-42bb-9937-c063f40f2361/datasets/75eeb2e6-1fa5-435c-8362-8387ca8781cc/compare?selectedSessions=c23bce47-03be-4657-a88f-b0389ab98df4\n",
      "\n",
      "View all tests for Dataset Retrieval QA Questions 5e1748c5-deea-447f-9468-bf794a2768b1 at:\n",
      "https://smith.langchain.com/o/0212d326-bd9d-42bb-9937-c063f40f2361/datasets/75eeb2e6-1fa5-435c-8362-8387ca8781cc\n",
      "[------------------------------------------------->] 7/7\n"
     ]
    }
   ],
   "source": [
    "# Run the evaluation for the first chain.\n",
    "results = client.run_on_dataset(\n",
    "    dataset_name=dataset_name, llm_or_chain_factory=chain_1, evaluation=eval_config\n",
    ")\n",
    "# Store the project name for later retrieval.\n",
    "project_name = results[\"project_name\"]"
   ]
  },
  {
   "cell_type": "code",
   "execution_count": 17,
   "id": "ec375e76-7261-433b-9f02-f4750acf6f93",
   "metadata": {
    "ExecuteTime": {
     "start_time": "2023-09-20T04:50:47.268715Z"
    },
    "tags": []
   },
   "outputs": [
    {
     "name": "stdout",
     "output_type": "stream",
     "text": [
      "View the evaluation results for project 'ample-match-34' at:\n",
      "https://smith.langchain.com/o/0212d326-bd9d-42bb-9937-c063f40f2361/datasets/75eeb2e6-1fa5-435c-8362-8387ca8781cc/compare?selectedSessions=0c64b311-74a3-4cf4-be58-d84ebaf84078\n",
      "\n",
      "View all tests for Dataset Retrieval QA Questions 5e1748c5-deea-447f-9468-bf794a2768b1 at:\n",
      "https://smith.langchain.com/o/0212d326-bd9d-42bb-9937-c063f40f2361/datasets/75eeb2e6-1fa5-435c-8362-8387ca8781cc\n",
      "[------------------------------------------------->] 7/7\n"
     ]
    }
   ],
   "source": [
    "# Run the evaluation for the second chain.\n",
    "results_2 = client.run_on_dataset(\n",
    "    dataset_name=dataset_name, llm_or_chain_factory=chain_2, evaluation=eval_config\n",
    ")\n",
    "# Store the project name for the second run.\n",
    "project_name_2 = results_2[\"project_name\"]"
   ]
  },
  {
   "cell_type": "markdown",
   "id": "5a6d2019-d076-4f18-832e-634dbd31091c",
   "metadata": {
    "tags": []
   },
   "source": [
    "You now have two test runs in LangSmith over the same dataset. You can view the aggregate metrics in the UI, or you can fetch the results and compare them directly in a pandas DataFrame."
   ]
  },
  {
   "cell_type": "code",
   "execution_count": 19,
   "id": "f50f74cc-fc86-4c60-8431-70695eba7aac",
   "metadata": {
    "ExecuteTime": {
     "end_time": "2023-09-20T04:50:52.710833Z",
     "start_time": "2023-09-20T04:50:51.723217Z"
    },
    "tags": []
   },
   "outputs": [],
   "source": [
    "import pandas as pd # Import the pandas library.\n",
    "\n",
    "# Fetch all the runs from the first test project.\n",
    "runs_1 = list(client.list_runs(project_name=project_name, execution_order=1))\n",
    "# Fetch all the runs from the second test project.\n",
    "runs_2 = list(client.list_runs(project_name=project_name_2, execution_order=1))\n",
    "\n",
    "\n",
    "# Helper function to convert a list of runs into a DataFrame.\n",
    "def get_project_df(runs):\n",
    "    return pd.DataFrame(\n",
    "        [\n",
    "            # For each run, create a dictionary with its outputs and the average feedback scores.\n",
    "            {**run.outputs, **{k: v.get(\"avg\") for k, v in run.feedback_stats.items()}}\n",
    "            for run in runs\n",
    "        ],\n",
    "        # Use the reference example ID as the index for easy joining.\n",
    "        index=[run.reference_example_id for run in runs],\n",
    "    )\n",
    "\n",
    "\n",
    "runs_1_df = get_project_df(runs_1) # Create a DataFrame for the first run.\n",
    "runs_2_df = get_project_df(runs_2) # Create a DataFrame for the second run.\n",
    "# Join the two DataFrames on their index (the example ID).\n",
    "joined_df = runs_1_df.join(runs_2_df, lsuffix=\"_1\", rsuffix=\"_2\")\n",
    "# Reorder the columns for a clean side-by-side comparison.\n",
    "columns_1 = [col for col in joined_df.columns if col.endswith(\"_1\")]\n",
    "columns_2 = [col for col in joined_df.columns if col.endswith(\"_2\")]\n",
    "new_columns_order = [col for pair in zip(columns_1, columns_2) for col in pair]\n",
    "joined_df = joined_df[new_columns_order]"
   ]
  },
  {
   "cell_type": "code",
   "execution_count": 20,
   "id": "45e3d81d-b16b-4ba2-bf4b-1118973e30d8",
   "metadata": {
    "ExecuteTime": {
     "end_time": "2023-09-20T04:50:53.133194Z",
     "start_time": "2023-09-20T04:50:53.122750Z"
    },
    "tags": []
   },
   "outputs": [
    {
     "data": {
      "text/html": [
       "<div>\n",
       "<style scoped>\n",
       "    .dataframe tbody tr th:only-of-type {\n",
       "        vertical-align: middle;\n",
       "    }\n",
       "\n",
       "    .dataframe tbody tr th {\n",
       "        vertical-align: top;\n",
       "    }\n",
       "\n",
       "    .dataframe thead th {\n",
       "        text-align: right;\n",
       "    }\n",
       "</style>\n",
       "<table border=\"1\" class=\"dataframe\">\n",
       "  <thead>\n",
       "    <tr style=\"text-align: right;\">\n",
       "      <th></th>\n",
       "      <th>output_1</th>\n",
       "      <th>output_2</th>\n",
       "      <th>cot contextual accuracy_1</th>\n",
       "      <th>cot contextual accuracy_2</th>\n",
       "    </tr>\n",
       "  </thead>\n",
       "  <tbody>\n",
       "    <tr>\n",
       "      <th>3af4f831-baba-4d3a-aa50-8ae04353fb2d</th>\n",
       "      <td>LangChain is a framework for building applicat...</td>\n",
       "      <td>LangChain is a framework for building applicat...</td>\n",
       "      <td>1.0</td>\n",
       "      <td>1.0</td>\n",
       "    </tr>\n",
       "    <tr>\n",
       "      <th>ac6ce8ce-a3c2-4971-b271-02139ca36014</th>\n",
       "      <td>To query for all runs in a project using LangS...</td>\n",
       "      <td>To query for all runs in a project using LangS...</td>\n",
       "      <td>0.0</td>\n",
       "      <td>0.0</td>\n",
       "    </tr>\n",
       "    <tr>\n",
       "      <th>7e59b921-674e-4ae5-ba61-04197275b4a5</th>\n",
       "      <td>To use the `traceable` decorator in your LangC...</td>\n",
       "      <td>To use the `traceable` decorator in your LangC...</td>\n",
       "      <td>0.0</td>\n",
       "      <td>0.0</td>\n",
       "    </tr>\n",
       "    <tr>\n",
       "      <th>d640e433-64f5-4293-bb9b-e61797046c68</th>\n",
       "      <td>At the moment, LangSmith does not support movi...</td>\n",
       "      <td>At the moment, LangSmith does not support movi...</td>\n",
       "      <td>1.0</td>\n",
       "      <td>1.0</td>\n",
       "    </tr>\n",
       "    <tr>\n",
       "      <th>035c4797-6c30-4883-8d2c-717a11f194e9</th>\n",
       "      <td>Setting environment variables is necessary in ...</td>\n",
       "      <td>Setting environment variables is a common prac...</td>\n",
       "      <td>1.0</td>\n",
       "      <td>1.0</td>\n",
       "    </tr>\n",
       "    <tr>\n",
       "      <th>b8d6d658-fec1-440d-98a0-5cacaa87fd55</th>\n",
       "      <td>A LangSmith dataset refers to a collection of ...</td>\n",
       "      <td>A LangSmith dataset refers to a collection of ...</td>\n",
       "      <td>1.0</td>\n",
       "      <td>1.0</td>\n",
       "    </tr>\n",
       "    <tr>\n",
       "      <th>3e64a644-dfaa-4f9a-b1fd-785da68a770e</th>\n",
       "      <td>To trace your Llama V2 language model using La...</td>\n",
       "      <td>To trace your Llama V2 language model using La...</td>\n",
       "      <td>1.0</td>\n",
       "      <td>1.0</td>\n",
       "    </tr>\n",
       "  </tbody>\n",
       "</table>\n",
       "</div>"
      ],
      "text/plain": [
       "                                                                               output_1  \\\n",
       "3af4f831-baba-4d3a-aa50-8ae04353fb2d  LangChain is a framework for building applicat...   \n",
       "ac6ce8ce-a3c2-4971-b271-02139ca36014  To query for all runs in a project using LangS...   \n",
       "7e59b921-674e-4ae5-ba61-04197275b4a5  To use the `traceable` decorator in your LangC...   \n",
       "d640e433-64f5-4293-bb9b-e61797046c68  At the moment, LangSmith does not support movi...   \n",
       "035c4797-6c30-4883-8d2c-717a11f194e9  Setting environment variables is necessary in ...   \n",
       "b8d6d658-fec1-440d-98a0-5cacaa87fd55  A LangSmith dataset refers to a collection of ...   \n",
       "3e64a644-dfaa-4f9a-b1fd-785da68a770e  To trace your Llama V2 language model using La...   \n",
       "\n",
       "                                                                               output_2  \\\n",
       "3af4f831-baba-4d3a-aa50-8ae04353fb2d  LangChain is a framework for building applicat...   \n",
       "ac6ce8ce-a3c2-4971-b271-02139ca36014  To query for all runs in a project using LangS...   \n",
       "7e59b921-674e-4ae5-ba61-04197275b4a5  To use the `traceable` decorator in your LangC...   \n",
       "d640e433-64f5-4293-bb9b-e61797046c68  At the moment, LangSmith does not support movi...   \n",
       "035c4797-6c30-4883-8d2c-717a11f194e9  Setting environment variables is a common prac...   \n",
       "b8d6d658-fec1-440d-98a0-5cacaa87fd55  A LangSmith dataset refers to a collection of ...   \n",
       "3e64a644-dfaa-4f9a-b1fd-785da68a770e  To trace your Llama V2 language model using La...   \n",
       "\n",
       "                                      cot contextual accuracy_1  \\\n",
       "3af4f831-baba-4d3a-aa50-8ae04353fb2d                        1.0   \n",
       "ac6ce8ce-a3c2-4971-b271-02139ca36014                        0.0   \n",
       "7e59b921-674e-4ae5-ba61-04197275b4a5                        0.0   \n",
       "d640e433-64f5-4293-bb9b-e61797046c68                        1.0   \n",
       "035c4797-6c30-4883-8d2c-717a11f194e9                        1.0   \n",
       "b8d6d658-fec1-440d-98a0-5cacaa87fd55                        1.0   \n",
       "3e64a644-dfaa-4f9a-b1fd-785da68a770e                        1.0   \n",
       "\n",
       "                                      cot contextual accuracy_2  \n",
       "3af4f831-baba-4d3a-aa50-8ae04353fb2d                        1.0  \n",
       "ac6ce8ce-a3c2-4971-b271-02139ca36014                        0.0  \n",
       "7e59b921-674e-4ae5-ba61-04197275b4a5                        0.0  \n",
       "d640e433-64f5-4293-bb9b-e61797046c68                        1.0  \n",
       "035c4797-6c30-4883-8d2c-717a11f194e9                        1.0  \n",
       "b8d6d658-fec1-440d-98a0-5cacaa87fd55                        1.0  \n",
       "3e64a644-dfaa-4f9a-b1fd-785da68a770e                        1.0  "
      ]
     },
     "execution_count": 20,
     "metadata": {},
     "output_type": "execute_result"
    }
   ],
   "source": [
    "joined_df"
   ]
  },
  {
   "cell_type": "markdown",
   "id": "2b16bf4d-383b-4f44-b5bd-b56c42b91919",
   "metadata": {
    "tags": []
   },
   "source": [
    "It looks like the benchmark performance is identical for both chains. This is a perfect scenario for using pairwise comparison to find more subtle differences.\n",
    "\n",
    "### Compare in LangSmith\n",
    "\n",
    "In the LangSmith UI, you can navigate to the dataset, select the two test runs you just completed, and click \"Compare\" to get a detailed, side-by-side view.\n",
    "\n",
    "![Compare Tests](./img/compare_tests_select.png)\n",
    "\n",
    "Manual comparison is powerful, but it can be time-consuming. Below, we'll demonstrate how to automate this process using an LLM as a judge."
   ]
  },
  {
   "cell_type": "markdown",
   "id": "17cb19f4-1855-4e9c-a447-491625c66646",
   "metadata": {},
   "source": [
    "## Step 2: Pairwise Evaluation\n",
    "\n",
    "Since the absolute scores were the same, we'll now run a pairwise evaluator to determine a preference between the two outputs for each question. We will define a helper function, `predict_preference`, to orchestrate this process for each example in our dataset. This function will:\n",
    "\n",
    "1.  Fetch the completed runs for a given example from both of our test projects (`project_a` and `project_b`).\n",
    "2.  **Randomize the order** of the two predictions (A and B). This is a crucial step to mitigate **positional bias**, where LLM judges may tend to prefer the first option they see.\n",
    "3.  Call a pairwise evaluation chain, which asks an LLM to state its preference (A or B).\n",
    "4.  Log the preference as feedback to the corresponding runs in LangSmith. The preferred run gets a score of `1`, and the other gets `0`.\n"
   ]
  },
  {
   "cell_type": "code",
   "execution_count": 21,
   "id": "bf7c70f3-9c8f-436d-85ca-5a398c3b1369",
   "metadata": {
    "tags": []
   },
   "outputs": [],
   "source": [
    "import random # Import the random module for shuffling.\n",
    "import logging # Import the logging module to handle potential errors.\n",
    "\n",
    "\n",
    "# A helper function to fetch a specific run and its prediction.\n",
    "def _get_run_and_prediction(example_id, project_name):\n",
    "    # List runs, filtering by the reference example and project.\n",
    "    run = next(\n",
    "        client.list_runs(\n",
    "            reference_example_id=example_id,\n",
    "            project_name=project_name,\n",
    "            execution_order=1,\n",
    "        )\n",
    "    )\n",
    "    # Extract the output from the run.\n",
    "    prediction = next(iter(run.outputs.values()))\n",
    "    return run, prediction\n",
    "\n",
    "\n",
    "# A helper function to log the preference feedback to LangSmith.\n",
    "def _log_feedback(run_ids):\n",
    "    # The 'preference' key is used. The preferred run gets a score of 1, the other gets 0.\n",
    "    for score, run_id in enumerate(run_ids):\n",
    "        client.create_feedback(run_id, key=\"preference\", score=score)\n",
    "\n",
    "\n",
    "# The main function to predict and log preference for a single example.\n",
    "def predict_preference(example, project_a, project_b, eval_chain):\n",
    "    example_id = example.id # Get the ID of the current example.\n",
    "    print(example) # Print the example for progress tracking.\n",
    "    # Fetch the runs and predictions for both projects (A and B).\n",
    "    run_a, pred_a = _get_run_and_prediction(example_id, project_a)\n",
    "    run_b, pred_b = _get_run_and_prediction(example_id, project_b)\n",
    "    # Prepare the inputs for the evaluator.\n",
    "    input_, answer = example.inputs[\"question\"], example.outputs[\"answer\"]\n",
    "    result = {\"input\": input_, \"answer\": answer, \"A\": pred_a, \"B\": pred_b}\n",
    "\n",
    "    # Randomly swap A and B to mitigate positional bias in the LLM judge.\n",
    "    if random.random() < 0.5:\n",
    "        result[\"A\"], result[\"B\"] = result[\"B\"], result[\"A\"]\n",
    "        run_a, run_b = run_b, run_a\n",
    "    try:\n",
    "        # Call the pairwise evaluator.\n",
    "        eval_res = eval_chain.evaluate_string_pairs(\n",
    "            prediction=result[\"A\"],\n",
    "            prediction_b=result[\"B\"],\n",
    "            input=input_,\n",
    "            reference=answer,\n",
    "        )\n",
    "    except Exception as e:\n",
    "        # Log a warning if the evaluator fails.\n",
    "        logging.warning(e)\n",
    "        return result\n",
    "\n",
    "    # If the evaluator returns a 'None' value (e.g., a tie), we don't log feedback.\n",
    "    if eval_res[\"value\"] is None:\n",
    "        return result\n",
    "\n",
    "    # Determine which run was preferred.\n",
    "    preferred_run = (run_a.id, \"A\") if eval_res[\"value\"] == \"A\" else (run_b.id, \"B\")\n",
    "    runner_up_run = (run_b.id, \"B\") if eval_res[\"value\"] == \"A\" else (run_a.id, \"A\")\n",
    "    # Log the feedback (0 for runner-up, 1 for preferred).\n",
    "    _log_feedback((runner_up_run[0], preferred_run[0]))\n",
    "    # Add the preference to our results dictionary.\n",
    "    result[\"Preferred\"] = preferred_run[1]\n",
    "    return result"
   ]
  },
  {
   "cell_type": "markdown",
   "id": "3e6a51df-616f-4f3e-9106-a5f7669b9090",
   "metadata": {},
   "source": [
    "We will use LangChain's off-the-shelf `labeled_pairwise_string` evaluator. By default, this evaluator asks the LLM judge to choose its preference based on helpfulness, relevance, correctness, and depth. For a real application, you would likely want to customize these criteria to match your specific goals."
   ]
  },
  {
   "cell_type": "code",
   "execution_count": 22,
   "id": "c2e1f12e-ed28-46ce-b09b-37088c475bae",
   "metadata": {},
   "outputs": [],
   "source": [
    "from langchain.evaluation import load_evaluator # Import the evaluator loading helper.\n",
    "\n",
    "# Load the pre-built labeled pairwise string evaluator.\n",
    "pairwise_evaluator = load_evaluator(\"labeled_pairwise_string\")"
   ]
  },
  {
   "cell_type": "markdown",
   "id": "b1c2d3e4-f5a6-b7c8-d9e0-f3a3b4c5d6e7",
   "metadata": {},
   "source": [
    "Now we'll set up a runnable to execute our `predict_preference` function across the entire dataset."
   ]
  },
  {
   "cell_type": "code",
   "execution_count": 23,
   "id": "f65e8572-18a3-46b3-936a-38e566b77922",
   "metadata": {
    "tags": []
   },
   "outputs": [],
   "source": [
    "import functools # Import functools to create partial functions.\n",
    "from langchain_core.runnables import RunnableLambda # Import RunnableLambda to wrap our function.\n",
    "\n",
    "\n",
    "# Create a partial function with our project names and evaluator pre-filled.\n",
    "eval_func = functools.partial(\n",
    "    predict_preference,\n",
    "    project_a=project_name,\n",
    "    project_b=project_name_2,\n",
    "    eval_chain=pairwise_evaluator,\n",
    ")\n",
    "\n",
    "\n",
    "# Wrap our partial function in a RunnableLambda to get access to the convenient .batch() method.\n",
    "runnable = RunnableLambda(eval_func)"
   ]
  },
  {
   "cell_type": "code",
   "execution_count": 24,
   "id": "c9236d28",
   "metadata": {},
   "outputs": [],
   "source": [
    "# Fetch the list of examples from our dataset.\n",
    "examples = list(client.list_examples(dataset_id=dataset.id))\n",
    "# Run the evaluation in a batch across all examples."
   ]
  },
  {
   "cell_type": "code",
   "execution_count": 26,
   "id": "16969ec1-d27c-4f8e-9624-8c3f25c51f8d",
   "metadata": {
    "ExecuteTime": {
     "end_time": "2023-09-20T04:45:43.550214Z",
     "start_time": "2023-09-20T04:45:43.459644Z"
    },
    "tags": []
   },
   "outputs": [
    {
     "name": "stdout",
     "output_type": "stream",
     "text": [
      "dataset_id=UUID('75eeb2e6-1fa5-435c-8362-8387ca8781cc') inputs={'question': 'Why do I have to set environment variables?'} outputs={'answer': 'Environment variables can tell your LangChain application to perform tracing and contain the information necessary to authenticate to LangSmith. While there are other ways to connect, environment variables tend to be the simplest way to configure your application.'} metadata={'dataset_split': ['base']} id=UUID('035c4797-6c30-4883-8d2c-717a11f194e9') created_at=datetime.datetime(2025, 8, 11, 16, 24, 31, 383719, tzinfo=datetime.timezone.utc) modified_at=datetime.datetime(2025, 8, 11, 16, 24, 31, 383719, tzinfo=datetime.timezone.utc) runs=[] source_run_id=None attachments={}dataset_id=UUID('75eeb2e6-1fa5-435c-8362-8387ca8781cc') inputs={'question': 'Can I trace my Llama V2 llm?'} outputs={'answer': \"So long as you are using one of LangChain's LLM implementations, all your calls can be traced\"} metadata={'dataset_split': ['base']} id=UUID('3e64a644-dfaa-4f9a-b1fd-785da68a770e') created_at=datetime.datetime(2025, 8, 11, 16, 24, 30, 918937, tzinfo=datetime.timezone.utc) modified_at=datetime.datetime(2025, 8, 11, 16, 24, 30, 918937, tzinfo=datetime.timezone.utc) runs=[] source_run_id=None attachments={}\n",
      "\n",
      "dataset_id=UUID('75eeb2e6-1fa5-435c-8362-8387ca8781cc') inputs={'question': 'How do I use a traceable decorator?'} outputs={'answer': 'The traceable decorator is available in the langsmith python SDK. To use, configure your environment with your API key,import the required function, decorate your function, and then call the function. Below is an example:\\n```python\\nfrom langsmith.run_helpers import traceable\\n@traceable(run_type=\"chain\") # or \"llm\", etc.\\ndef my_function(input_param):\\n    # Function logic goes here\\n    return output\\nresult = my_function(input_param)\\n```'} metadata={'dataset_split': ['base']} id=UUID('7e59b921-674e-4ae5-ba61-04197275b4a5') created_at=datetime.datetime(2025, 8, 11, 16, 24, 30, 525705, tzinfo=datetime.timezone.utc) modified_at=datetime.datetime(2025, 8, 11, 16, 24, 30, 525705, tzinfo=datetime.timezone.utc) runs=[] source_run_id=None attachments={}\n",
      "dataset_id=UUID('75eeb2e6-1fa5-435c-8362-8387ca8781cc') inputs={'question': \"What's a langsmith dataset?\"} outputs={'answer': 'A LangSmith dataset is a collection of examples. Each example contains inputs and optional expected outputs or references for that data point.'} metadata={'dataset_split': ['base']} id=UUID('b8d6d658-fec1-440d-98a0-5cacaa87fd55') created_at=datetime.datetime(2025, 8, 11, 16, 24, 30, 162696, tzinfo=datetime.timezone.utc) modified_at=datetime.datetime(2025, 8, 11, 16, 24, 30, 162696, tzinfo=datetime.timezone.utc) runs=[] source_run_id=None attachments={}\n",
      "dataset_id=UUID('75eeb2e6-1fa5-435c-8362-8387ca8781cc') inputs={'question': 'How might I query for all runs in a project?'} outputs={'answer': \"client.list_runs(project_name='my-project-name'), or in TypeScript, client.ListRuns({projectName: 'my-project-anme'})\"} metadata={'dataset_split': ['base']} id=UUID('ac6ce8ce-a3c2-4971-b271-02139ca36014') created_at=datetime.datetime(2025, 8, 11, 16, 24, 29, 861722, tzinfo=datetime.timezone.utc) modified_at=datetime.datetime(2025, 8, 11, 16, 24, 29, 861722, tzinfo=datetime.timezone.utc) runs=[] source_run_id=None attachments={}\n",
      "dataset_id=UUID('75eeb2e6-1fa5-435c-8362-8387ca8781cc') inputs={'question': 'What is LangChain?'} outputs={'answer': 'LangChain is an open-source framework for building applications using large language models. It is also the name of the company building LangSmith.'} metadata={'dataset_split': ['base']} id=UUID('3af4f831-baba-4d3a-aa50-8ae04353fb2d') created_at=datetime.datetime(2025, 8, 11, 16, 24, 29, 498934, tzinfo=datetime.timezone.utc) modified_at=datetime.datetime(2025, 8, 11, 16, 24, 29, 498934, tzinfo=datetime.timezone.utc) runs=[] source_run_id=None attachments={}\n",
      "dataset_id=UUID('75eeb2e6-1fa5-435c-8362-8387ca8781cc') inputs={'question': 'How do I move my project between organizations?'} outputs={'answer': \"LangSmith doesn't directly support moving projects between organizations.\"} metadata={'dataset_split': ['base']} id=UUID('d640e433-64f5-4293-bb9b-e61797046c68') created_at=datetime.datetime(2025, 8, 11, 16, 24, 31, 805641, tzinfo=datetime.timezone.utc) modified_at=datetime.datetime(2025, 8, 11, 16, 24, 31, 805641, tzinfo=datetime.timezone.utc) runs=[] source_run_id=None attachments={}\n"
     ]
    }
   ],
   "source": [
    "# Fetch the list of examples from our dataset.\n",
    "examples = list(client.list_examples(dataset_id=dataset.id))\n",
    "# Run the evaluation in a batch across all examples.\n",
    "values = runnable.batch(examples)"
   ]
  },
  {
   "cell_type": "markdown",
   "id": "11be2783-6c15-4fb9-8fdc-11eaa91197fa",
   "metadata": {},
   "source": [
    "By running the function above, the `\"preference\"` feedback was automatically logged to the test projects. You can now see these preference scores in the LangSmith UI, allowing you to quickly identify which version is performing better on a case-by-case basis.\n",
    "\n",
    "![Preference Tags](img/with_preferences.png)\n",
    "\n",
    "We can also display the results in a DataFrame to see the side-by-side comparison and the final preference."
   ]
  },
  {
   "cell_type": "code",
   "execution_count": 27,
   "id": "46c7d7f7-9e26-4439-8a2c-93f6d89741ef",
   "metadata": {
    "tags": []
   },
   "outputs": [
    {
     "data": {
      "text/html": [
       "<div>\n",
       "<style scoped>\n",
       "    .dataframe tbody tr th:only-of-type {\n",
       "        vertical-align: middle;\n",
       "    }\n",
       "\n",
       "    .dataframe tbody tr th {\n",
       "        vertical-align: top;\n",
       "    }\n",
       "\n",
       "    .dataframe thead th {\n",
       "        text-align: right;\n",
       "    }\n",
       "</style>\n",
       "<table border=\"1\" class=\"dataframe\">\n",
       "  <thead>\n",
       "    <tr style=\"text-align: right;\">\n",
       "      <th></th>\n",
       "      <th>input</th>\n",
       "      <th>answer</th>\n",
       "      <th>A</th>\n",
       "      <th>B</th>\n",
       "      <th>Preferred</th>\n",
       "    </tr>\n",
       "  </thead>\n",
       "  <tbody>\n",
       "    <tr>\n",
       "      <th>0</th>\n",
       "      <td>How do I move my project between organizations?</td>\n",
       "      <td>LangSmith doesn't directly support moving proj...</td>\n",
       "      <td>At the moment, LangSmith does not support movi...</td>\n",
       "      <td>At the moment, LangSmith does not support movi...</td>\n",
       "      <td>NaN</td>\n",
       "    </tr>\n",
       "    <tr>\n",
       "      <th>1</th>\n",
       "      <td>Why do I have to set environment variables?</td>\n",
       "      <td>Environment variables can tell your LangChain ...</td>\n",
       "      <td>Setting environment variables is a common prac...</td>\n",
       "      <td>Setting environment variables is necessary in ...</td>\n",
       "      <td>B</td>\n",
       "    </tr>\n",
       "    <tr>\n",
       "      <th>2</th>\n",
       "      <td>Can I trace my Llama V2 llm?</td>\n",
       "      <td>So long as you are using one of LangChain's LL...</td>\n",
       "      <td>To trace your Llama V2 language model using La...</td>\n",
       "      <td>To trace your Llama V2 language model using La...</td>\n",
       "      <td>B</td>\n",
       "    </tr>\n",
       "    <tr>\n",
       "      <th>3</th>\n",
       "      <td>How do I use a traceable decorator?</td>\n",
       "      <td>The traceable decorator is available in the la...</td>\n",
       "      <td>To use the `traceable` decorator in your LangC...</td>\n",
       "      <td>To use the `traceable` decorator in your LangC...</td>\n",
       "      <td>NaN</td>\n",
       "    </tr>\n",
       "    <tr>\n",
       "      <th>4</th>\n",
       "      <td>What's a langsmith dataset?</td>\n",
       "      <td>A LangSmith dataset is a collection of example...</td>\n",
       "      <td>A LangSmith dataset refers to a collection of ...</td>\n",
       "      <td>A LangSmith dataset refers to a collection of ...</td>\n",
       "      <td>A</td>\n",
       "    </tr>\n",
       "    <tr>\n",
       "      <th>5</th>\n",
       "      <td>How might I query for all runs in a project?</td>\n",
       "      <td>client.list_runs(project_name='my-project-name...</td>\n",
       "      <td>To query for all runs in a project using LangS...</td>\n",
       "      <td>To query for all runs in a project using LangS...</td>\n",
       "      <td>NaN</td>\n",
       "    </tr>\n",
       "    <tr>\n",
       "      <th>6</th>\n",
       "      <td>What is LangChain?</td>\n",
       "      <td>LangChain is an open-source framework for buil...</td>\n",
       "      <td>LangChain is a framework for building applicat...</td>\n",
       "      <td>LangChain is a framework for building applicat...</td>\n",
       "      <td>NaN</td>\n",
       "    </tr>\n",
       "  </tbody>\n",
       "</table>\n",
       "</div>"
      ],
      "text/plain": [
       "                                             input  \\\n",
       "0  How do I move my project between organizations?   \n",
       "1      Why do I have to set environment variables?   \n",
       "2                     Can I trace my Llama V2 llm?   \n",
       "3              How do I use a traceable decorator?   \n",
       "4                      What's a langsmith dataset?   \n",
       "5     How might I query for all runs in a project?   \n",
       "6                               What is LangChain?   \n",
       "\n",
       "                                              answer  \\\n",
       "0  LangSmith doesn't directly support moving proj...   \n",
       "1  Environment variables can tell your LangChain ...   \n",
       "2  So long as you are using one of LangChain's LL...   \n",
       "3  The traceable decorator is available in the la...   \n",
       "4  A LangSmith dataset is a collection of example...   \n",
       "5  client.list_runs(project_name='my-project-name...   \n",
       "6  LangChain is an open-source framework for buil...   \n",
       "\n",
       "                                                   A  \\\n",
       "0  At the moment, LangSmith does not support movi...   \n",
       "1  Setting environment variables is a common prac...   \n",
       "2  To trace your Llama V2 language model using La...   \n",
       "3  To use the `traceable` decorator in your LangC...   \n",
       "4  A LangSmith dataset refers to a collection of ...   \n",
       "5  To query for all runs in a project using LangS...   \n",
       "6  LangChain is a framework for building applicat...   \n",
       "\n",
       "                                                   B Preferred  \n",
       "0  At the moment, LangSmith does not support movi...       NaN  \n",
       "1  Setting environment variables is necessary in ...         B  \n",
       "2  To trace your Llama V2 language model using La...         B  \n",
       "3  To use the `traceable` decorator in your LangC...       NaN  \n",
       "4  A LangSmith dataset refers to a collection of ...         A  \n",
       "5  To query for all runs in a project using LangS...       NaN  \n",
       "6  LangChain is a framework for building applicat...       NaN  "
      ]
     },
     "execution_count": 27,
     "metadata": {},
     "output_type": "execute_result"
    }
   ],
   "source": [
    "import pandas as pd # Import pandas.\n",
    "\n",
    "df = pd.DataFrame(values) # Create a DataFrame from our evaluation results.\n",
    "df.head(10) # Display the first 10 rows of the DataFrame."
   ]
  },
  {
   "cell_type": "markdown",
   "id": "cd2ec77a-67b3-48e8-9cde-c9022641f245",
   "metadata": {},
   "source": [
    "## Conclusion\n",
    "\n",
    "In this walkthrough, you compared two versions of a RAG Q&A chain by first running a standard benchmark and then running a pairwise comparison to determine preference scores. This approach provides a much richer signal than absolute grading alone, especially when aggregate metrics are close.\n",
    "\n",
    "Pairwise evaluation is a flexible and powerful technique. You can enhance this method by:\n",
    "\n",
    "- **Ensembling**: Using multiple LLM judges and taking a majority vote to get a more robust preference score.\n",
    "- **Continuous Scores**: Instructing the model to output a continuous score (e.g., from 1-10) for each response instead of just a binary preference.\n",
    "- **Custom Criteria**: Modifying the evaluator's prompt to judge based on criteria that are most important to your application, such as conciseness, tone, or creativity.\n",
    "\n",
    "For more examples of advanced evaluation techniques, check out the [evaluation examples](https://python.langchain.com/docs/guides/productionization/evaluation/examples) in the LangChain documentation."
   ]
  }
 ],
 "metadata": {
  "kernelspec": {
   "display_name": "ai-agents-eval-techniques (3.11.12)",
   "language": "python",
   "name": "python3"
  },
  "language_info": {
   "codemirror_mode": {
    "name": "ipython",
    "version": 3
   },
   "file_extension": ".py",
   "mimetype": "text/x-python",
   "name": "python",
   "nbconvert_exporter": "python",
   "pygments_lexer": "ipython3",
   "version": "3.11.12"
  }
 },
 "nbformat": 4,
 "nbformat_minor": 5
}
